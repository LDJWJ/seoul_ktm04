{
 "cells": [
  {
   "cell_type": "markdown",
   "metadata": {},
   "source": [
    "### 판다스를 활용한 데이터 이해"
   ]
  },
  {
   "cell_type": "code",
   "execution_count": 1,
   "metadata": {},
   "outputs": [
    {
     "name": "stdout",
     "output_type": "stream",
     "text": [
      "banana\n",
      "apple\n",
      "candy\n",
      "['apple', 'candy']\n"
     ]
    }
   ],
   "source": [
    "myfood = ['banana', 'apple', 'candy']\n",
    "print(myfood[0])\n",
    "print(myfood[1])\n",
    "print(myfood[2])\n",
    "print(myfood[1:3]) # 첫번째 두번째 가져오기"
   ]
  },
  {
   "cell_type": "code",
   "execution_count": 2,
   "metadata": {},
   "outputs": [
    {
     "name": "stdout",
     "output_type": "stream",
     "text": [
      "banana\n",
      "apple\n",
      "candy\n"
     ]
    }
   ],
   "source": [
    "for item in myfood:\n",
    "    print(item)"
   ]
  },
  {
   "cell_type": "markdown",
   "metadata": {},
   "source": [
    "### 딕셔너리(Dictionary)"
   ]
  },
  {
   "cell_type": "code",
   "execution_count": 3,
   "metadata": {},
   "outputs": [],
   "source": [
    "dict1 = {'one':'하나', 'two':\"둘\", 'three':'셋'}\n",
    "dict2 = {1:\"하나\", 2:\"둘\", 3:\"셋\"}\n",
    "dict3 = {'col1':[1,2,3], 'col2':['a','b','c']}"
   ]
  },
  {
   "cell_type": "code",
   "execution_count": 4,
   "metadata": {},
   "outputs": [
    {
     "name": "stdout",
     "output_type": "stream",
     "text": [
      "{'one': '하나', 'two': '둘', 'three': '셋'}\n",
      "{1: '하나', 2: '둘', 3: '셋'}\n",
      "{'col1': [1, 2, 3], 'col2': ['a', 'b', 'c']}\n"
     ]
    }
   ],
   "source": [
    "print(dict1)\n",
    "print(dict2)\n",
    "print(dict3)"
   ]
  },
  {
   "cell_type": "code",
   "execution_count": 5,
   "metadata": {},
   "outputs": [
    {
     "name": "stdout",
     "output_type": "stream",
     "text": [
      "하나\n",
      "둘\n",
      "['a', 'b', 'c']\n"
     ]
    }
   ],
   "source": [
    "print(dict1['one'])\n",
    "print(dict2[2])\n",
    "print(dict3['col2'])"
   ]
  },
  {
   "cell_type": "markdown",
   "metadata": {},
   "source": [
    "### 판다스 모듈 불러오기"
   ]
  },
  {
   "cell_type": "code",
   "execution_count": 7,
   "metadata": {},
   "outputs": [],
   "source": [
    "import pandas as pd  # pandas를 불러오고 pd로 약자로서 쓰겠다."
   ]
  },
  {
   "cell_type": "code",
   "execution_count": 8,
   "metadata": {},
   "outputs": [],
   "source": [
    "from pandas import Series, DataFrame  # pandas안의 Series와 DataFrame 를 불러옴."
   ]
  },
  {
   "cell_type": "code",
   "execution_count": 9,
   "metadata": {},
   "outputs": [
    {
     "name": "stdout",
     "output_type": "stream",
     "text": [
      "pandas 버전 :  0.24.2\n"
     ]
    }
   ],
   "source": [
    "print(\"pandas 버전 : \", pd.__version__)"
   ]
  },
  {
   "cell_type": "markdown",
   "metadata": {},
   "source": [
    "### 홍길동 팀별 대항 게임 5일간의 점수"
   ]
  },
  {
   "cell_type": "code",
   "execution_count": 10,
   "metadata": {},
   "outputs": [
    {
     "name": "stdout",
     "output_type": "stream",
     "text": [
      "0     1000\n",
      "1    14000\n",
      "2     3000\n",
      "3     3000\n",
      "4     1000\n",
      "dtype: int64\n"
     ]
    }
   ],
   "source": [
    "score = Series( [1000,14000, 3000, 3000, 1000] )\n",
    "print(score)"
   ]
  },
  {
   "cell_type": "code",
   "execution_count": 11,
   "metadata": {},
   "outputs": [
    {
     "name": "stdout",
     "output_type": "stream",
     "text": [
      "자료형 확인 :  <class 'pandas.core.series.Series'>\n"
     ]
    }
   ],
   "source": [
    "print(\"자료형 확인 : \", type(score))"
   ]
  },
  {
   "cell_type": "code",
   "execution_count": 12,
   "metadata": {},
   "outputs": [],
   "source": [
    "## Series 인덱스 확인"
   ]
  },
  {
   "cell_type": "code",
   "execution_count": 13,
   "metadata": {},
   "outputs": [
    {
     "name": "stdout",
     "output_type": "stream",
     "text": [
      "RangeIndex(start=0, stop=5, step=1)\n"
     ]
    }
   ],
   "source": [
    "print(score.index)"
   ]
  },
  {
   "cell_type": "code",
   "execution_count": 14,
   "metadata": {},
   "outputs": [
    {
     "name": "stdout",
     "output_type": "stream",
     "text": [
      "[ 1000 14000  3000  3000  1000]\n"
     ]
    }
   ],
   "source": [
    "## Series 값 확인\n",
    "print(score.values)"
   ]
  },
  {
   "cell_type": "markdown",
   "metadata": {},
   "source": [
    "### 판다스 시리즈 인덱스 지정"
   ]
  },
  {
   "cell_type": "code",
   "execution_count": 15,
   "metadata": {},
   "outputs": [
    {
     "name": "stdout",
     "output_type": "stream",
     "text": [
      "2019-05-01     1000\n",
      "2019-05-02    14000\n",
      "2019-05-03     3000\n",
      "dtype: int64\n"
     ]
    }
   ],
   "source": [
    "score = Series( [1000, 14000, 3000], \n",
    "                index=['2019-05-01', '2019-05-02', '2019-05-03'])\n",
    "print(score)"
   ]
  },
  {
   "cell_type": "code",
   "execution_count": 16,
   "metadata": {},
   "outputs": [
    {
     "name": "stdout",
     "output_type": "stream",
     "text": [
      "1000\n",
      "-------------\n",
      "2019-05-02    14000\n",
      "2019-05-03     3000\n",
      "dtype: int64\n"
     ]
    }
   ],
   "source": [
    "print(score['2019-05-01']) # 인덱스 이용 - 5월 1일 날짜 점수 확인\n",
    "print(\"-------------\")\n",
    "print(score['2019-05-02':'2019-05-03']) # 5월 2일, 3일 날짜 팀 점수 확인"
   ]
  },
  {
   "cell_type": "code",
   "execution_count": 17,
   "metadata": {},
   "outputs": [
    {
     "name": "stdout",
     "output_type": "stream",
     "text": [
      "2019-05-01\n",
      "2019-05-02\n",
      "2019-05-03\n"
     ]
    }
   ],
   "source": [
    "for idx in score.index:\n",
    "    print(idx)"
   ]
  },
  {
   "cell_type": "code",
   "execution_count": 18,
   "metadata": {},
   "outputs": [
    {
     "name": "stdout",
     "output_type": "stream",
     "text": [
      "1000\n",
      "14000\n",
      "3000\n"
     ]
    }
   ],
   "source": [
    "for value in score.values:\n",
    "    print(value)"
   ]
  },
  {
   "cell_type": "markdown",
   "metadata": {},
   "source": [
    "### 두 팀의 팀점수 합산해보기\n",
    " * 길동팀의 3일간의 점수와 toto 팀의 3일간의 점수"
   ]
  },
  {
   "cell_type": "code",
   "execution_count": 19,
   "metadata": {},
   "outputs": [],
   "source": [
    "from pandas import Series"
   ]
  },
  {
   "cell_type": "code",
   "execution_count": 20,
   "metadata": {},
   "outputs": [],
   "source": [
    "gildong = Series([1500, 3000, 2500],\n",
    "   index = ['2019-05-01', '2019-05-02', '2019-05-03'] )\n",
    "toto = Series([3000, 3000, 2000],\n",
    "   index = ['2019-05-01', '2019-05-03', '2019-05-02'] )"
   ]
  },
  {
   "cell_type": "code",
   "execution_count": 21,
   "metadata": {},
   "outputs": [
    {
     "data": {
      "text/plain": [
       "2019-05-01    4500\n",
       "2019-05-02    5000\n",
       "2019-05-03    5500\n",
       "dtype: int64"
      ]
     },
     "execution_count": 21,
     "metadata": {},
     "output_type": "execute_result"
    }
   ],
   "source": [
    "gildong + toto"
   ]
  },
  {
   "cell_type": "markdown",
   "metadata": {},
   "source": [
    "### 데이터 프레임의 이해"
   ]
  },
  {
   "cell_type": "markdown",
   "metadata": {},
   "source": [
    "* 데이터 프레임의 객체를 생성하는 가장 간단한 방법은 딕셔너리를 이용하는 방법\n",
    "* 데이터 프레임은 Series의 결합으로 이루어진 것으로 생각할 수 있음.\n",
    "* Pandas(판다스)의 대표적인 기본 자료형이다.\n",
    "* DataFrame 함수를 이용하여 객체 생성이 가능하다."
   ]
  },
  {
   "cell_type": "code",
   "execution_count": 22,
   "metadata": {},
   "outputs": [],
   "source": [
    "from pandas import DataFrame"
   ]
  },
  {
   "cell_type": "code",
   "execution_count": 23,
   "metadata": {},
   "outputs": [
    {
     "data": {
      "text/html": [
       "<div>\n",
       "<style scoped>\n",
       "    .dataframe tbody tr th:only-of-type {\n",
       "        vertical-align: middle;\n",
       "    }\n",
       "\n",
       "    .dataframe tbody tr th {\n",
       "        vertical-align: top;\n",
       "    }\n",
       "\n",
       "    .dataframe thead th {\n",
       "        text-align: right;\n",
       "    }\n",
       "</style>\n",
       "<table border=\"1\" class=\"dataframe\">\n",
       "  <thead>\n",
       "    <tr style=\"text-align: right;\">\n",
       "      <th></th>\n",
       "      <th>col1</th>\n",
       "      <th>col2</th>\n",
       "      <th>col3</th>\n",
       "    </tr>\n",
       "  </thead>\n",
       "  <tbody>\n",
       "    <tr>\n",
       "      <th>0</th>\n",
       "      <td>1</td>\n",
       "      <td>10</td>\n",
       "      <td>A</td>\n",
       "    </tr>\n",
       "    <tr>\n",
       "      <th>1</th>\n",
       "      <td>2</td>\n",
       "      <td>20</td>\n",
       "      <td>B</td>\n",
       "    </tr>\n",
       "    <tr>\n",
       "      <th>2</th>\n",
       "      <td>3</td>\n",
       "      <td>30</td>\n",
       "      <td>C</td>\n",
       "    </tr>\n",
       "    <tr>\n",
       "      <th>3</th>\n",
       "      <td>4</td>\n",
       "      <td>40</td>\n",
       "      <td>D</td>\n",
       "    </tr>\n",
       "  </tbody>\n",
       "</table>\n",
       "</div>"
      ],
      "text/plain": [
       "   col1  col2 col3\n",
       "0     1    10    A\n",
       "1     2    20    B\n",
       "2     3    30    C\n",
       "3     4    40    D"
      ]
     },
     "execution_count": 23,
     "metadata": {},
     "output_type": "execute_result"
    }
   ],
   "source": [
    "dat = { 'col1' : [1,2,3,4],\n",
    "        'col2' : [10,20,30,40],\n",
    "        'col3' : ['A', 'B', 'C', 'D'] }\n",
    "df = DataFrame(dat)\n",
    "df"
   ]
  },
  {
   "cell_type": "markdown",
   "metadata": {},
   "source": [
    "### 네 팀의 5일간의 팀별 점수"
   ]
  },
  {
   "cell_type": "markdown",
   "metadata": {},
   "source": [
    "* 팀은 toto, gildong, apple, catanddog 팀이다."
   ]
  },
  {
   "cell_type": "code",
   "execution_count": 24,
   "metadata": {},
   "outputs": [
    {
     "data": {
      "text/html": [
       "<div>\n",
       "<style scoped>\n",
       "    .dataframe tbody tr th:only-of-type {\n",
       "        vertical-align: middle;\n",
       "    }\n",
       "\n",
       "    .dataframe tbody tr th {\n",
       "        vertical-align: top;\n",
       "    }\n",
       "\n",
       "    .dataframe thead th {\n",
       "        text-align: right;\n",
       "    }\n",
       "</style>\n",
       "<table border=\"1\" class=\"dataframe\">\n",
       "  <thead>\n",
       "    <tr style=\"text-align: right;\">\n",
       "      <th></th>\n",
       "      <th>toto</th>\n",
       "      <th>apple</th>\n",
       "      <th>gildong</th>\n",
       "      <th>catanddog</th>\n",
       "    </tr>\n",
       "  </thead>\n",
       "  <tbody>\n",
       "    <tr>\n",
       "      <th>0</th>\n",
       "      <td>1500</td>\n",
       "      <td>4000</td>\n",
       "      <td>2000</td>\n",
       "      <td>7000</td>\n",
       "    </tr>\n",
       "    <tr>\n",
       "      <th>1</th>\n",
       "      <td>3000</td>\n",
       "      <td>5000</td>\n",
       "      <td>2500</td>\n",
       "      <td>5000</td>\n",
       "    </tr>\n",
       "    <tr>\n",
       "      <th>2</th>\n",
       "      <td>5000</td>\n",
       "      <td>6000</td>\n",
       "      <td>3000</td>\n",
       "      <td>3000</td>\n",
       "    </tr>\n",
       "    <tr>\n",
       "      <th>3</th>\n",
       "      <td>7000</td>\n",
       "      <td>5500</td>\n",
       "      <td>4000</td>\n",
       "      <td>5000</td>\n",
       "    </tr>\n",
       "    <tr>\n",
       "      <th>4</th>\n",
       "      <td>5500</td>\n",
       "      <td>4500</td>\n",
       "      <td>3000</td>\n",
       "      <td>4000</td>\n",
       "    </tr>\n",
       "  </tbody>\n",
       "</table>\n",
       "</div>"
      ],
      "text/plain": [
       "   toto  apple  gildong  catanddog\n",
       "0  1500   4000     2000       7000\n",
       "1  3000   5000     2500       5000\n",
       "2  5000   6000     3000       3000\n",
       "3  7000   5500     4000       5000\n",
       "4  5500   4500     3000       4000"
      ]
     },
     "execution_count": 24,
     "metadata": {},
     "output_type": "execute_result"
    }
   ],
   "source": [
    "from pandas import DataFrame\n",
    "team_score = {  \"toto\":[1500,3000,5000,7000,5500],\n",
    "                \"apple\":[4000,5000,6000,5500,4500],\n",
    "                \"gildong\":[2000,2500,3000,4000,3000],\n",
    "                \"catanddog\":[7000,5000,3000,5000,4000]}\n",
    "team_df = DataFrame(team_score)\n",
    "team_df"
   ]
  },
  {
   "cell_type": "code",
   "execution_count": 25,
   "metadata": {},
   "outputs": [
    {
     "data": {
      "text/html": [
       "<div>\n",
       "<style scoped>\n",
       "    .dataframe tbody tr th:only-of-type {\n",
       "        vertical-align: middle;\n",
       "    }\n",
       "\n",
       "    .dataframe tbody tr th {\n",
       "        vertical-align: top;\n",
       "    }\n",
       "\n",
       "    .dataframe thead th {\n",
       "        text-align: right;\n",
       "    }\n",
       "</style>\n",
       "<table border=\"1\" class=\"dataframe\">\n",
       "  <thead>\n",
       "    <tr style=\"text-align: right;\">\n",
       "      <th></th>\n",
       "      <th>catanddog</th>\n",
       "      <th>toto</th>\n",
       "      <th>apple</th>\n",
       "      <th>gildong</th>\n",
       "    </tr>\n",
       "  </thead>\n",
       "  <tbody>\n",
       "    <tr>\n",
       "      <th>19-05-01</th>\n",
       "      <td>7000</td>\n",
       "      <td>1500</td>\n",
       "      <td>4000</td>\n",
       "      <td>2000</td>\n",
       "    </tr>\n",
       "    <tr>\n",
       "      <th>19-05-02</th>\n",
       "      <td>5000</td>\n",
       "      <td>3000</td>\n",
       "      <td>5000</td>\n",
       "      <td>2500</td>\n",
       "    </tr>\n",
       "    <tr>\n",
       "      <th>19-05-03</th>\n",
       "      <td>3000</td>\n",
       "      <td>5000</td>\n",
       "      <td>6000</td>\n",
       "      <td>3000</td>\n",
       "    </tr>\n",
       "    <tr>\n",
       "      <th>19-05-04</th>\n",
       "      <td>5000</td>\n",
       "      <td>7000</td>\n",
       "      <td>5500</td>\n",
       "      <td>4000</td>\n",
       "    </tr>\n",
       "    <tr>\n",
       "      <th>19-05-05</th>\n",
       "      <td>4000</td>\n",
       "      <td>5500</td>\n",
       "      <td>4500</td>\n",
       "      <td>3000</td>\n",
       "    </tr>\n",
       "  </tbody>\n",
       "</table>\n",
       "</div>"
      ],
      "text/plain": [
       "          catanddog  toto  apple  gildong\n",
       "19-05-01       7000  1500   4000     2000\n",
       "19-05-02       5000  3000   5000     2500\n",
       "19-05-03       3000  5000   6000     3000\n",
       "19-05-04       5000  7000   5500     4000\n",
       "19-05-05       4000  5500   4500     3000"
      ]
     },
     "execution_count": 25,
     "metadata": {},
     "output_type": "execute_result"
    }
   ],
   "source": [
    "date = ['19-05-01','19-05-02', '19-05-03', '19-05-04', '19-05-05']\n",
    "team_df = DataFrame(team_score,\n",
    "    columns=['catanddog', 'toto', 'apple', 'gildong'],\n",
    "    index=date)\n",
    "team_df"
   ]
  },
  {
   "cell_type": "code",
   "execution_count": 26,
   "metadata": {},
   "outputs": [
    {
     "data": {
      "text/plain": [
       "19-05-01    1500\n",
       "19-05-02    3000\n",
       "19-05-03    5000\n",
       "19-05-04    7000\n",
       "19-05-05    5500\n",
       "Name: toto, dtype: int64"
      ]
     },
     "execution_count": 26,
     "metadata": {},
     "output_type": "execute_result"
    }
   ],
   "source": [
    "team_df['toto']"
   ]
  },
  {
   "cell_type": "code",
   "execution_count": 27,
   "metadata": {},
   "outputs": [
    {
     "data": {
      "text/html": [
       "<div>\n",
       "<style scoped>\n",
       "    .dataframe tbody tr th:only-of-type {\n",
       "        vertical-align: middle;\n",
       "    }\n",
       "\n",
       "    .dataframe tbody tr th {\n",
       "        vertical-align: top;\n",
       "    }\n",
       "\n",
       "    .dataframe thead th {\n",
       "        text-align: right;\n",
       "    }\n",
       "</style>\n",
       "<table border=\"1\" class=\"dataframe\">\n",
       "  <thead>\n",
       "    <tr style=\"text-align: right;\">\n",
       "      <th></th>\n",
       "      <th>toto</th>\n",
       "      <th>gildong</th>\n",
       "    </tr>\n",
       "  </thead>\n",
       "  <tbody>\n",
       "    <tr>\n",
       "      <th>19-05-01</th>\n",
       "      <td>1500</td>\n",
       "      <td>2000</td>\n",
       "    </tr>\n",
       "    <tr>\n",
       "      <th>19-05-02</th>\n",
       "      <td>3000</td>\n",
       "      <td>2500</td>\n",
       "    </tr>\n",
       "    <tr>\n",
       "      <th>19-05-03</th>\n",
       "      <td>5000</td>\n",
       "      <td>3000</td>\n",
       "    </tr>\n",
       "    <tr>\n",
       "      <th>19-05-04</th>\n",
       "      <td>7000</td>\n",
       "      <td>4000</td>\n",
       "    </tr>\n",
       "    <tr>\n",
       "      <th>19-05-05</th>\n",
       "      <td>5500</td>\n",
       "      <td>3000</td>\n",
       "    </tr>\n",
       "  </tbody>\n",
       "</table>\n",
       "</div>"
      ],
      "text/plain": [
       "          toto  gildong\n",
       "19-05-01  1500     2000\n",
       "19-05-02  3000     2500\n",
       "19-05-03  5000     3000\n",
       "19-05-04  7000     4000\n",
       "19-05-05  5500     3000"
      ]
     },
     "execution_count": 27,
     "metadata": {},
     "output_type": "execute_result"
    }
   ],
   "source": [
    "team_df[ ['toto', 'gildong'] ]"
   ]
  },
  {
   "cell_type": "markdown",
   "metadata": {},
   "source": [
    "### loc와 iloc를 이용한 접근"
   ]
  },
  {
   "cell_type": "markdown",
   "metadata": {},
   "source": [
    "* loc는 데이터 프레임의 컬럼명(인덱스)를 사용하여 데이터 추출한다.\n",
    "* iloc는 데이터 프레임의 데이터 순서(번호)를 사용하여 데이터 추출(시작번호 : 0)\n",
    "* loc[ 행, 열] 접근이라고 쉽게 생각한다."
   ]
  },
  {
   "cell_type": "code",
   "execution_count": 28,
   "metadata": {},
   "outputs": [
    {
     "name": "stdout",
     "output_type": "stream",
     "text": [
      "catanddog    5000\n",
      "toto         3000\n",
      "apple        5000\n",
      "gildong      2500\n",
      "Name: 19-05-02, dtype: int64\n",
      "-----------\n",
      "          catanddog  toto  apple  gildong\n",
      "19-05-02       5000  3000   5000     2500\n",
      "19-05-03       3000  5000   6000     3000\n",
      "-----------\n",
      "          catanddog  toto  apple  gildong\n",
      "19-05-02       5000  3000   5000     2500\n",
      "19-05-03       3000  5000   6000     3000\n",
      "19-05-04       5000  7000   5500     4000\n",
      "19-05-05       4000  5500   4500     3000\n"
     ]
    }
   ],
   "source": [
    "print(team_df.loc[ '19-05-02' ] ) # 19-05-02 일\n",
    "print(\"-----------\")\n",
    "print(team_df.loc[ ['19-05-02', '19-05-03'] ]) # 5월 2일, 3일\n",
    "print(\"-----------\")\n",
    "print(team_df.loc[ '19-05-02': ]) # 5월 2일 이후 전체 데이터 가져오기"
   ]
  },
  {
   "cell_type": "markdown",
   "metadata": {},
   "source": [
    "### loc를 이용한 접근"
   ]
  },
  {
   "cell_type": "code",
   "execution_count": 29,
   "metadata": {},
   "outputs": [
    {
     "name": "stdout",
     "output_type": "stream",
     "text": [
      "Index(['catanddog', 'toto', 'apple', 'gildong'], dtype='object')\n",
      "-----\n",
      "19-05-01    1500\n",
      "19-05-02    3000\n",
      "19-05-03    5000\n",
      "19-05-04    7000\n",
      "19-05-05    5500\n",
      "Name: toto, dtype: int64\n",
      "-----\n",
      "          toto  gildong\n",
      "19-05-01  1500     2000\n",
      "19-05-02  3000     2500\n",
      "19-05-03  5000     3000\n",
      "19-05-04  7000     4000\n",
      "19-05-05  5500     3000\n",
      "-----\n",
      "          toto  apple  gildong\n",
      "19-05-01  1500   4000     2000\n",
      "19-05-02  3000   5000     2500\n",
      "19-05-03  5000   6000     3000\n",
      "19-05-04  7000   5500     4000\n",
      "19-05-05  5500   4500     3000\n"
     ]
    }
   ],
   "source": [
    "## 컬럼명 확인\n",
    "print(team_df.columns)\n",
    "print(\"-----\")\n",
    "print(team_df.loc[:, 'toto']) # 전체행, toto팀\n",
    "print(\"-----\")\n",
    "print(team_df.loc[:, ['toto', 'gildong'] ]) # 전체행, toto, gildong팀\n",
    "print(\"-----\")\n",
    "print(team_df.loc[:, 'toto': ]) # 전체행, toto 부터 끝까지"
   ]
  },
  {
   "cell_type": "markdown",
   "metadata": {},
   "source": [
    "### iloc 속성을 이용한 행, 열, 데이터 접근하기"
   ]
  },
  {
   "cell_type": "code",
   "execution_count": 30,
   "metadata": {},
   "outputs": [
    {
     "name": "stdout",
     "output_type": "stream",
     "text": [
      "catanddog    7000\n",
      "toto         1500\n",
      "apple        4000\n",
      "gildong      2000\n",
      "Name: 19-05-01, dtype: int64\n",
      "------\n",
      "          catanddog  toto  apple  gildong\n",
      "19-05-01       7000  1500   4000     2000\n",
      "19-05-02       5000  3000   5000     2500\n",
      "------\n",
      "          catanddog  toto  apple  gildong\n",
      "19-05-01       7000  1500   4000     2000\n",
      "19-05-02       5000  3000   5000     2500\n",
      "19-05-03       3000  5000   6000     3000\n",
      "------\n",
      "          catanddog  toto  apple  gildong\n",
      "19-05-01       7000  1500   4000     2000\n",
      "19-05-02       5000  3000   5000     2500\n",
      "19-05-03       3000  5000   6000     3000\n"
     ]
    }
   ],
   "source": [
    "print(team_df.iloc[0]) # 첫번째 행 접근\n",
    "print(\"------\")\n",
    "print(team_df.iloc[ [0,1] ]) # 첫번째 두번째 행 접근\n",
    "print(\"------\")\n",
    "print(team_df.iloc[ 0:3:1] ) # 첫번째부터 세번째 행 접근\n",
    "print(\"------\")\n",
    "range_num = list(range(0,3,1))\n",
    "print(team_df.iloc[ range_num ] ) # 첫번째부터 세번째 행 접근"
   ]
  },
  {
   "cell_type": "code",
   "execution_count": 31,
   "metadata": {},
   "outputs": [
    {
     "name": "stdout",
     "output_type": "stream",
     "text": [
      "19-05-01    7000\n",
      "19-05-02    5000\n",
      "19-05-03    3000\n",
      "19-05-04    5000\n",
      "19-05-05    4000\n",
      "Name: catanddog, dtype: int64\n",
      "------\n",
      "          catanddog  toto\n",
      "19-05-01       7000  1500\n",
      "19-05-02       5000  3000\n",
      "19-05-03       3000  5000\n",
      "19-05-04       5000  7000\n",
      "19-05-05       4000  5500\n",
      "------\n",
      "          catanddog  toto  apple\n",
      "19-05-01       7000  1500   4000\n",
      "19-05-02       5000  3000   5000\n",
      "19-05-03       3000  5000   6000\n",
      "19-05-04       5000  7000   5500\n",
      "19-05-05       4000  5500   4500\n",
      "------\n",
      "          catanddog  toto  apple\n",
      "19-05-01       7000  1500   4000\n",
      "19-05-02       5000  3000   5000\n",
      "19-05-03       3000  5000   6000\n",
      "19-05-04       5000  7000   5500\n",
      "19-05-05       4000  5500   4500\n"
     ]
    }
   ],
   "source": [
    "print(team_df.iloc[:, 0]) # 첫번째 열 접근\n",
    "print(\"------\")\n",
    "print(team_df.iloc[:, [0,1] ]) # 첫번째 두번째 열 접근\n",
    "print(\"------\")\n",
    "print(team_df.iloc[:, 0:3:1] ) # 첫번째부터 세번째 열 접근\n",
    "print(\"------\")\n",
    "range_num = list(range(0,3,1))\n",
    "print(team_df.iloc[:, range_num ] ) # 첫번째부터 세번째 열 접근"
   ]
  },
  {
   "cell_type": "code",
   "execution_count": 32,
   "metadata": {},
   "outputs": [
    {
     "name": "stdout",
     "output_type": "stream",
     "text": [
      "catanddog    24000\n",
      "toto         22000\n",
      "apple        25000\n",
      "gildong      14500\n",
      "dtype: int64\n",
      "----\n",
      "catanddog    4800.0\n",
      "toto         4400.0\n",
      "apple        5000.0\n",
      "gildong      2900.0\n",
      "dtype: float64\n",
      "----\n"
     ]
    }
   ],
   "source": [
    "print(team_df.sum() )\n",
    "print(\"----\")\n",
    "print(team_df.mean() )\n",
    "print(\"----\")"
   ]
  },
  {
   "cell_type": "markdown",
   "metadata": {},
   "source": [
    "### 팀별 요약값을 보고 싶다."
   ]
  },
  {
   "cell_type": "code",
   "execution_count": 33,
   "metadata": {},
   "outputs": [
    {
     "data": {
      "text/html": [
       "<div>\n",
       "<style scoped>\n",
       "    .dataframe tbody tr th:only-of-type {\n",
       "        vertical-align: middle;\n",
       "    }\n",
       "\n",
       "    .dataframe tbody tr th {\n",
       "        vertical-align: top;\n",
       "    }\n",
       "\n",
       "    .dataframe thead th {\n",
       "        text-align: right;\n",
       "    }\n",
       "</style>\n",
       "<table border=\"1\" class=\"dataframe\">\n",
       "  <thead>\n",
       "    <tr style=\"text-align: right;\">\n",
       "      <th></th>\n",
       "      <th>catanddog</th>\n",
       "      <th>toto</th>\n",
       "      <th>apple</th>\n",
       "      <th>gildong</th>\n",
       "    </tr>\n",
       "  </thead>\n",
       "  <tbody>\n",
       "    <tr>\n",
       "      <th>count</th>\n",
       "      <td>5.000000</td>\n",
       "      <td>5.000000</td>\n",
       "      <td>5.000000</td>\n",
       "      <td>5.000000</td>\n",
       "    </tr>\n",
       "    <tr>\n",
       "      <th>mean</th>\n",
       "      <td>4800.000000</td>\n",
       "      <td>4400.000000</td>\n",
       "      <td>5000.000000</td>\n",
       "      <td>2900.000000</td>\n",
       "    </tr>\n",
       "    <tr>\n",
       "      <th>std</th>\n",
       "      <td>1483.239697</td>\n",
       "      <td>2162.174831</td>\n",
       "      <td>790.569415</td>\n",
       "      <td>741.619849</td>\n",
       "    </tr>\n",
       "    <tr>\n",
       "      <th>min</th>\n",
       "      <td>3000.000000</td>\n",
       "      <td>1500.000000</td>\n",
       "      <td>4000.000000</td>\n",
       "      <td>2000.000000</td>\n",
       "    </tr>\n",
       "    <tr>\n",
       "      <th>25%</th>\n",
       "      <td>4000.000000</td>\n",
       "      <td>3000.000000</td>\n",
       "      <td>4500.000000</td>\n",
       "      <td>2500.000000</td>\n",
       "    </tr>\n",
       "    <tr>\n",
       "      <th>50%</th>\n",
       "      <td>5000.000000</td>\n",
       "      <td>5000.000000</td>\n",
       "      <td>5000.000000</td>\n",
       "      <td>3000.000000</td>\n",
       "    </tr>\n",
       "    <tr>\n",
       "      <th>75%</th>\n",
       "      <td>5000.000000</td>\n",
       "      <td>5500.000000</td>\n",
       "      <td>5500.000000</td>\n",
       "      <td>3000.000000</td>\n",
       "    </tr>\n",
       "    <tr>\n",
       "      <th>max</th>\n",
       "      <td>7000.000000</td>\n",
       "      <td>7000.000000</td>\n",
       "      <td>6000.000000</td>\n",
       "      <td>4000.000000</td>\n",
       "    </tr>\n",
       "  </tbody>\n",
       "</table>\n",
       "</div>"
      ],
      "text/plain": [
       "         catanddog         toto        apple      gildong\n",
       "count     5.000000     5.000000     5.000000     5.000000\n",
       "mean   4800.000000  4400.000000  5000.000000  2900.000000\n",
       "std    1483.239697  2162.174831   790.569415   741.619849\n",
       "min    3000.000000  1500.000000  4000.000000  2000.000000\n",
       "25%    4000.000000  3000.000000  4500.000000  2500.000000\n",
       "50%    5000.000000  5000.000000  5000.000000  3000.000000\n",
       "75%    5000.000000  5500.000000  5500.000000  3000.000000\n",
       "max    7000.000000  7000.000000  6000.000000  4000.000000"
      ]
     },
     "execution_count": 33,
     "metadata": {},
     "output_type": "execute_result"
    }
   ],
   "source": [
    "team_df.describe()"
   ]
  },
  {
   "cell_type": "code",
   "execution_count": 34,
   "metadata": {},
   "outputs": [
    {
     "data": {
      "text/html": [
       "<div>\n",
       "<style scoped>\n",
       "    .dataframe tbody tr th:only-of-type {\n",
       "        vertical-align: middle;\n",
       "    }\n",
       "\n",
       "    .dataframe tbody tr th {\n",
       "        vertical-align: top;\n",
       "    }\n",
       "\n",
       "    .dataframe thead th {\n",
       "        text-align: right;\n",
       "    }\n",
       "</style>\n",
       "<table border=\"1\" class=\"dataframe\">\n",
       "  <thead>\n",
       "    <tr style=\"text-align: right;\">\n",
       "      <th></th>\n",
       "      <th>catanddog</th>\n",
       "      <th>toto</th>\n",
       "      <th>apple</th>\n",
       "      <th>gildong</th>\n",
       "    </tr>\n",
       "  </thead>\n",
       "  <tbody>\n",
       "    <tr>\n",
       "      <th>19-05-01</th>\n",
       "      <td>7000</td>\n",
       "      <td>1500</td>\n",
       "      <td>4000</td>\n",
       "      <td>2000</td>\n",
       "    </tr>\n",
       "    <tr>\n",
       "      <th>19-05-02</th>\n",
       "      <td>12000</td>\n",
       "      <td>4500</td>\n",
       "      <td>9000</td>\n",
       "      <td>4500</td>\n",
       "    </tr>\n",
       "    <tr>\n",
       "      <th>19-05-03</th>\n",
       "      <td>15000</td>\n",
       "      <td>9500</td>\n",
       "      <td>15000</td>\n",
       "      <td>7500</td>\n",
       "    </tr>\n",
       "    <tr>\n",
       "      <th>19-05-04</th>\n",
       "      <td>20000</td>\n",
       "      <td>16500</td>\n",
       "      <td>20500</td>\n",
       "      <td>11500</td>\n",
       "    </tr>\n",
       "    <tr>\n",
       "      <th>19-05-05</th>\n",
       "      <td>24000</td>\n",
       "      <td>22000</td>\n",
       "      <td>25000</td>\n",
       "      <td>14500</td>\n",
       "    </tr>\n",
       "  </tbody>\n",
       "</table>\n",
       "</div>"
      ],
      "text/plain": [
       "          catanddog   toto  apple  gildong\n",
       "19-05-01       7000   1500   4000     2000\n",
       "19-05-02      12000   4500   9000     4500\n",
       "19-05-03      15000   9500  15000     7500\n",
       "19-05-04      20000  16500  20500    11500\n",
       "19-05-05      24000  22000  25000    14500"
      ]
     },
     "execution_count": 34,
     "metadata": {},
     "output_type": "execute_result"
    }
   ],
   "source": [
    "## 날짜별 누적 통계\n",
    "team_df.cumsum()"
   ]
  },
  {
   "cell_type": "markdown",
   "metadata": {},
   "source": [
    "### 날짜별 합계"
   ]
  },
  {
   "cell_type": "code",
   "execution_count": 35,
   "metadata": {},
   "outputs": [
    {
     "name": "stdout",
     "output_type": "stream",
     "text": [
      "19-05-01    14500\n",
      "19-05-02    15500\n",
      "19-05-03    17000\n",
      "19-05-04    21500\n",
      "19-05-05    17000\n",
      "dtype: int64\n"
     ]
    }
   ],
   "source": [
    "## 날짜별 합계\n",
    "print(team_df.sum(axis=1))"
   ]
  },
  {
   "cell_type": "code",
   "execution_count": 36,
   "metadata": {},
   "outputs": [
    {
     "name": "stdout",
     "output_type": "stream",
     "text": [
      "<class 'pandas.core.series.Series'>\n"
     ]
    }
   ],
   "source": [
    "rowsum = team_df.sum(axis=1)\n",
    "print(type(rowsum))"
   ]
  },
  {
   "cell_type": "code",
   "execution_count": 37,
   "metadata": {},
   "outputs": [
    {
     "data": {
      "text/html": [
       "<div>\n",
       "<style scoped>\n",
       "    .dataframe tbody tr th:only-of-type {\n",
       "        vertical-align: middle;\n",
       "    }\n",
       "\n",
       "    .dataframe tbody tr th {\n",
       "        vertical-align: top;\n",
       "    }\n",
       "\n",
       "    .dataframe thead th {\n",
       "        text-align: right;\n",
       "    }\n",
       "</style>\n",
       "<table border=\"1\" class=\"dataframe\">\n",
       "  <thead>\n",
       "    <tr style=\"text-align: right;\">\n",
       "      <th></th>\n",
       "      <th>catanddog</th>\n",
       "      <th>toto</th>\n",
       "      <th>apple</th>\n",
       "      <th>gildong</th>\n",
       "      <th>rowsum</th>\n",
       "    </tr>\n",
       "  </thead>\n",
       "  <tbody>\n",
       "    <tr>\n",
       "      <th>19-05-01</th>\n",
       "      <td>7000</td>\n",
       "      <td>1500</td>\n",
       "      <td>4000</td>\n",
       "      <td>2000</td>\n",
       "      <td>14500</td>\n",
       "    </tr>\n",
       "    <tr>\n",
       "      <th>19-05-02</th>\n",
       "      <td>5000</td>\n",
       "      <td>3000</td>\n",
       "      <td>5000</td>\n",
       "      <td>2500</td>\n",
       "      <td>15500</td>\n",
       "    </tr>\n",
       "    <tr>\n",
       "      <th>19-05-03</th>\n",
       "      <td>3000</td>\n",
       "      <td>5000</td>\n",
       "      <td>6000</td>\n",
       "      <td>3000</td>\n",
       "      <td>17000</td>\n",
       "    </tr>\n",
       "    <tr>\n",
       "      <th>19-05-04</th>\n",
       "      <td>5000</td>\n",
       "      <td>7000</td>\n",
       "      <td>5500</td>\n",
       "      <td>4000</td>\n",
       "      <td>21500</td>\n",
       "    </tr>\n",
       "    <tr>\n",
       "      <th>19-05-05</th>\n",
       "      <td>4000</td>\n",
       "      <td>5500</td>\n",
       "      <td>4500</td>\n",
       "      <td>3000</td>\n",
       "      <td>17000</td>\n",
       "    </tr>\n",
       "  </tbody>\n",
       "</table>\n",
       "</div>"
      ],
      "text/plain": [
       "          catanddog  toto  apple  gildong  rowsum\n",
       "19-05-01       7000  1500   4000     2000   14500\n",
       "19-05-02       5000  3000   5000     2500   15500\n",
       "19-05-03       3000  5000   6000     3000   17000\n",
       "19-05-04       5000  7000   5500     4000   21500\n",
       "19-05-05       4000  5500   4500     3000   17000"
      ]
     },
     "execution_count": 37,
     "metadata": {},
     "output_type": "execute_result"
    }
   ],
   "source": [
    "team_df['rowsum'] = team_df.sum(axis=1)\n",
    "team_df"
   ]
  },
  {
   "cell_type": "markdown",
   "metadata": {},
   "source": [
    "### 점수가 높은 날짜별로 확인해보자"
   ]
  },
  {
   "cell_type": "code",
   "execution_count": 38,
   "metadata": {},
   "outputs": [
    {
     "data": {
      "text/plain": [
       "19-05-04    21500\n",
       "19-05-05    17000\n",
       "19-05-03    17000\n",
       "19-05-02    15500\n",
       "19-05-01    14500\n",
       "Name: rowsum, dtype: int64"
      ]
     },
     "execution_count": 38,
     "metadata": {},
     "output_type": "execute_result"
    }
   ],
   "source": [
    "team_df.rowsum.sort_values(ascending=False)"
   ]
  },
  {
   "cell_type": "markdown",
   "metadata": {},
   "source": [
    "### 조건을 걸어 일정 이상의 팀 점수의 날만 확인해 보자."
   ]
  },
  {
   "cell_type": "markdown",
   "metadata": {},
   "source": [
    "* 17000이상인 날만 확인해 보기"
   ]
  },
  {
   "cell_type": "code",
   "execution_count": 39,
   "metadata": {},
   "outputs": [
    {
     "data": {
      "text/html": [
       "<div>\n",
       "<style scoped>\n",
       "    .dataframe tbody tr th:only-of-type {\n",
       "        vertical-align: middle;\n",
       "    }\n",
       "\n",
       "    .dataframe tbody tr th {\n",
       "        vertical-align: top;\n",
       "    }\n",
       "\n",
       "    .dataframe thead th {\n",
       "        text-align: right;\n",
       "    }\n",
       "</style>\n",
       "<table border=\"1\" class=\"dataframe\">\n",
       "  <thead>\n",
       "    <tr style=\"text-align: right;\">\n",
       "      <th></th>\n",
       "      <th>catanddog</th>\n",
       "      <th>toto</th>\n",
       "      <th>apple</th>\n",
       "      <th>gildong</th>\n",
       "      <th>rowsum</th>\n",
       "    </tr>\n",
       "  </thead>\n",
       "  <tbody>\n",
       "    <tr>\n",
       "      <th>19-05-03</th>\n",
       "      <td>3000</td>\n",
       "      <td>5000</td>\n",
       "      <td>6000</td>\n",
       "      <td>3000</td>\n",
       "      <td>17000</td>\n",
       "    </tr>\n",
       "    <tr>\n",
       "      <th>19-05-04</th>\n",
       "      <td>5000</td>\n",
       "      <td>7000</td>\n",
       "      <td>5500</td>\n",
       "      <td>4000</td>\n",
       "      <td>21500</td>\n",
       "    </tr>\n",
       "    <tr>\n",
       "      <th>19-05-05</th>\n",
       "      <td>4000</td>\n",
       "      <td>5500</td>\n",
       "      <td>4500</td>\n",
       "      <td>3000</td>\n",
       "      <td>17000</td>\n",
       "    </tr>\n",
       "  </tbody>\n",
       "</table>\n",
       "</div>"
      ],
      "text/plain": [
       "          catanddog  toto  apple  gildong  rowsum\n",
       "19-05-03       3000  5000   6000     3000   17000\n",
       "19-05-04       5000  7000   5500     4000   21500\n",
       "19-05-05       4000  5500   4500     3000   17000"
      ]
     },
     "execution_count": 39,
     "metadata": {},
     "output_type": "execute_result"
    }
   ],
   "source": [
    "team_df[ team_df.rowsum >= 17000]"
   ]
  },
  {
   "cell_type": "code",
   "execution_count": 40,
   "metadata": {},
   "outputs": [
    {
     "data": {
      "text/html": [
       "<div>\n",
       "<style scoped>\n",
       "    .dataframe tbody tr th:only-of-type {\n",
       "        vertical-align: middle;\n",
       "    }\n",
       "\n",
       "    .dataframe tbody tr th {\n",
       "        vertical-align: top;\n",
       "    }\n",
       "\n",
       "    .dataframe thead th {\n",
       "        text-align: right;\n",
       "    }\n",
       "</style>\n",
       "<table border=\"1\" class=\"dataframe\">\n",
       "  <thead>\n",
       "    <tr style=\"text-align: right;\">\n",
       "      <th></th>\n",
       "      <th>catanddog</th>\n",
       "      <th>toto</th>\n",
       "      <th>apple</th>\n",
       "      <th>gildong</th>\n",
       "      <th>rowsum</th>\n",
       "    </tr>\n",
       "  </thead>\n",
       "  <tbody>\n",
       "    <tr>\n",
       "      <th>19-05-01</th>\n",
       "      <td>7000</td>\n",
       "      <td>1500</td>\n",
       "      <td>4000</td>\n",
       "      <td>2000</td>\n",
       "      <td>14500</td>\n",
       "    </tr>\n",
       "    <tr>\n",
       "      <th>19-05-02</th>\n",
       "      <td>5000</td>\n",
       "      <td>3000</td>\n",
       "      <td>5000</td>\n",
       "      <td>2500</td>\n",
       "      <td>15500</td>\n",
       "    </tr>\n",
       "    <tr>\n",
       "      <th>19-05-03</th>\n",
       "      <td>3000</td>\n",
       "      <td>5000</td>\n",
       "      <td>6000</td>\n",
       "      <td>3000</td>\n",
       "      <td>17000</td>\n",
       "    </tr>\n",
       "    <tr>\n",
       "      <th>19-05-04</th>\n",
       "      <td>5000</td>\n",
       "      <td>7000</td>\n",
       "      <td>5500</td>\n",
       "      <td>4000</td>\n",
       "      <td>21500</td>\n",
       "    </tr>\n",
       "    <tr>\n",
       "      <th>19-05-05</th>\n",
       "      <td>4000</td>\n",
       "      <td>5500</td>\n",
       "      <td>4500</td>\n",
       "      <td>3000</td>\n",
       "      <td>17000</td>\n",
       "    </tr>\n",
       "  </tbody>\n",
       "</table>\n",
       "</div>"
      ],
      "text/plain": [
       "          catanddog  toto  apple  gildong  rowsum\n",
       "19-05-01       7000  1500   4000     2000   14500\n",
       "19-05-02       5000  3000   5000     2500   15500\n",
       "19-05-03       3000  5000   6000     3000   17000\n",
       "19-05-04       5000  7000   5500     4000   21500\n",
       "19-05-05       4000  5500   4500     3000   17000"
      ]
     },
     "execution_count": 40,
     "metadata": {},
     "output_type": "execute_result"
    }
   ],
   "source": [
    "team_df"
   ]
  },
  {
   "cell_type": "code",
   "execution_count": 41,
   "metadata": {},
   "outputs": [
    {
     "data": {
      "text/html": [
       "<div>\n",
       "<style scoped>\n",
       "    .dataframe tbody tr th:only-of-type {\n",
       "        vertical-align: middle;\n",
       "    }\n",
       "\n",
       "    .dataframe tbody tr th {\n",
       "        vertical-align: top;\n",
       "    }\n",
       "\n",
       "    .dataframe thead th {\n",
       "        text-align: right;\n",
       "    }\n",
       "</style>\n",
       "<table border=\"1\" class=\"dataframe\">\n",
       "  <thead>\n",
       "    <tr style=\"text-align: right;\">\n",
       "      <th></th>\n",
       "      <th>catanddog</th>\n",
       "      <th>apple</th>\n",
       "      <th>rowsum</th>\n",
       "    </tr>\n",
       "  </thead>\n",
       "  <tbody>\n",
       "    <tr>\n",
       "      <th>19-05-01</th>\n",
       "      <td>7000</td>\n",
       "      <td>4000</td>\n",
       "      <td>14500</td>\n",
       "    </tr>\n",
       "    <tr>\n",
       "      <th>19-05-02</th>\n",
       "      <td>5000</td>\n",
       "      <td>5000</td>\n",
       "      <td>15500</td>\n",
       "    </tr>\n",
       "    <tr>\n",
       "      <th>19-05-03</th>\n",
       "      <td>3000</td>\n",
       "      <td>6000</td>\n",
       "      <td>17000</td>\n",
       "    </tr>\n",
       "    <tr>\n",
       "      <th>19-05-04</th>\n",
       "      <td>5000</td>\n",
       "      <td>5500</td>\n",
       "      <td>21500</td>\n",
       "    </tr>\n",
       "    <tr>\n",
       "      <th>19-05-05</th>\n",
       "      <td>4000</td>\n",
       "      <td>4500</td>\n",
       "      <td>17000</td>\n",
       "    </tr>\n",
       "  </tbody>\n",
       "</table>\n",
       "</div>"
      ],
      "text/plain": [
       "          catanddog  apple  rowsum\n",
       "19-05-01       7000   4000   14500\n",
       "19-05-02       5000   5000   15500\n",
       "19-05-03       3000   6000   17000\n",
       "19-05-04       5000   5500   21500\n",
       "19-05-05       4000   4500   17000"
      ]
     },
     "execution_count": 41,
     "metadata": {},
     "output_type": "execute_result"
    }
   ],
   "source": [
    "team_df.drop(['toto', 'gildong' ], axis=1)"
   ]
  },
  {
   "cell_type": "code",
   "execution_count": 42,
   "metadata": {},
   "outputs": [
    {
     "data": {
      "text/html": [
       "<div>\n",
       "<style scoped>\n",
       "    .dataframe tbody tr th:only-of-type {\n",
       "        vertical-align: middle;\n",
       "    }\n",
       "\n",
       "    .dataframe tbody tr th {\n",
       "        vertical-align: top;\n",
       "    }\n",
       "\n",
       "    .dataframe thead th {\n",
       "        text-align: right;\n",
       "    }\n",
       "</style>\n",
       "<table border=\"1\" class=\"dataframe\">\n",
       "  <thead>\n",
       "    <tr style=\"text-align: right;\">\n",
       "      <th></th>\n",
       "      <th>catanddog</th>\n",
       "      <th>apple</th>\n",
       "      <th>rowsum</th>\n",
       "    </tr>\n",
       "  </thead>\n",
       "  <tbody>\n",
       "    <tr>\n",
       "      <th>19-05-01</th>\n",
       "      <td>7000</td>\n",
       "      <td>4000</td>\n",
       "      <td>14500</td>\n",
       "    </tr>\n",
       "    <tr>\n",
       "      <th>19-05-02</th>\n",
       "      <td>5000</td>\n",
       "      <td>5000</td>\n",
       "      <td>15500</td>\n",
       "    </tr>\n",
       "    <tr>\n",
       "      <th>19-05-03</th>\n",
       "      <td>3000</td>\n",
       "      <td>6000</td>\n",
       "      <td>17000</td>\n",
       "    </tr>\n",
       "    <tr>\n",
       "      <th>19-05-04</th>\n",
       "      <td>5000</td>\n",
       "      <td>5500</td>\n",
       "      <td>21500</td>\n",
       "    </tr>\n",
       "    <tr>\n",
       "      <th>19-05-05</th>\n",
       "      <td>4000</td>\n",
       "      <td>4500</td>\n",
       "      <td>17000</td>\n",
       "    </tr>\n",
       "  </tbody>\n",
       "</table>\n",
       "</div>"
      ],
      "text/plain": [
       "          catanddog  apple  rowsum\n",
       "19-05-01       7000   4000   14500\n",
       "19-05-02       5000   5000   15500\n",
       "19-05-03       3000   6000   17000\n",
       "19-05-04       5000   5500   21500\n",
       "19-05-05       4000   4500   17000"
      ]
     },
     "execution_count": 42,
     "metadata": {},
     "output_type": "execute_result"
    }
   ],
   "source": [
    "team_12 = team_df.drop(['toto', 'gildong' ], axis=1)\n",
    "team_12"
   ]
  },
  {
   "cell_type": "code",
   "execution_count": 43,
   "metadata": {},
   "outputs": [],
   "source": [
    "team_12.to_csv(\"team_12.csv\", index=False)\n",
    "team_12.to_excel(\"team_12.xlsx\", index=False)"
   ]
  },
  {
   "cell_type": "code",
   "execution_count": 46,
   "metadata": {},
   "outputs": [
    {
     "name": "stdout",
     "output_type": "stream",
     "text": [
      " C 드라이브의 볼륨에는 이름이 없습니다.\n",
      " 볼륨 일련 번호: EAD2-35E2\n",
      "\n",
      " C:\\Users\\toto\\Documents\\GitHub\\seoul_ktm04 디렉터리\n",
      "\n",
      "2020-05-12  오전 07:56               109 team_12.csv\n",
      "2020-05-12  오전 07:56             5,493 team_12.xlsx\n",
      "               2개 파일               5,602 바이트\n",
      "               0개 디렉터리  139,344,519,168 바이트 남음\n"
     ]
    }
   ],
   "source": [
    "# window의 경우\n",
    "!dir *team*\n",
    "\n",
    "# 리눅스 OS의 경우\n",
    "# !ls *team*"
   ]
  },
  {
   "cell_type": "markdown",
   "metadata": {},
   "source": [
    "### REF\n",
    " * pandas 공식 사이트 : https://pandas.pydata.org/ (https://pandas.pydata.org/)\n",
    " * pandas 10 minute tutorial : https://pandas.pydata.org/pandas-docs/stable/getting_started/10min.html\n",
    "(https://pandas.pydata.org/pandas-docs/stable/getting_started/10min.html)"
   ]
  },
  {
   "cell_type": "code",
   "execution_count": null,
   "metadata": {},
   "outputs": [],
   "source": []
  }
 ],
 "metadata": {
  "kernelspec": {
   "display_name": "Python 3",
   "language": "python",
   "name": "python3"
  },
  "language_info": {
   "codemirror_mode": {
    "name": "ipython",
    "version": 3
   },
   "file_extension": ".py",
   "mimetype": "text/x-python",
   "name": "python",
   "nbconvert_exporter": "python",
   "pygments_lexer": "ipython3",
   "version": "3.7.1"
  }
 },
 "nbformat": 4,
 "nbformat_minor": 2
}
