{
 "cells": [
  {
   "cell_type": "markdown",
   "metadata": {
    "colab_type": "text",
    "id": "5B7lasHenfgn"
   },
   "source": [
    "### 라이브러리 불러오기"
   ]
  },
  {
   "cell_type": "code",
   "execution_count": 2,
   "metadata": {
    "colab": {},
    "colab_type": "code",
    "id": "H40yb83do2Ib"
   },
   "outputs": [],
   "source": [
    "import pandas as pd\n",
    "import matplotlib.pyplot as plt\n",
    "import seaborn as sns\n",
    "import os "
   ]
  },
  {
   "cell_type": "code",
   "execution_count": 3,
   "metadata": {
    "colab": {
     "base_uri": "https://localhost:8080/",
     "height": 52
    },
    "colab_type": "code",
    "id": "1EGAvMalMHGY",
    "outputId": "36782a51-4107-4d21-c29a-69a75f25f8f1"
   },
   "outputs": [
    {
     "name": "stdout",
     "output_type": "stream",
     "text": [
      "캘리포니아 데이터 행열(train) : (17000, 9)\n",
      "캘리포니아 데이터 행열(test) : (3000, 9)\n"
     ]
    }
   ],
   "source": [
    "import pandas as pd\n",
    "data_tr = pd.read_csv(\"california_housing_train.csv\")\n",
    "data_test = pd.read_csv(\"california_housing_test.csv\")\n",
    "\n",
    "print(\"캘리포니아 데이터 행열(train) :\", data_tr.shape)\n",
    "print(\"캘리포니아 데이터 행열(test) :\", data_test.shape)"
   ]
  },
  {
   "cell_type": "markdown",
   "metadata": {
    "colab_type": "text",
    "id": "eWVNaqoPnn4C"
   },
   "source": [
    "### 일부 행만 보기"
   ]
  },
  {
   "cell_type": "code",
   "execution_count": 4,
   "metadata": {
    "colab": {
     "base_uri": "https://localhost:8080/",
     "height": 442
    },
    "colab_type": "code",
    "id": "cqtjVVtql-Oa",
    "outputId": "4b684498-6b3e-4bb0-ecaf-7f46fad078d1"
   },
   "outputs": [
    {
     "name": "stdout",
     "output_type": "stream",
     "text": [
      "   longitude  latitude  housing_median_age  total_rooms  total_bedrooms  \\\n",
      "0    -114.31     34.19                15.0       5612.0          1283.0   \n",
      "1    -114.47     34.40                19.0       7650.0          1901.0   \n",
      "2    -114.56     33.69                17.0        720.0           174.0   \n",
      "3    -114.57     33.64                14.0       1501.0           337.0   \n",
      "4    -114.57     33.57                20.0       1454.0           326.0   \n",
      "\n",
      "   population  households  median_income  median_house_value  \n",
      "0      1015.0       472.0         1.4936             66900.0  \n",
      "1      1129.0       463.0         1.8200             80100.0  \n",
      "2       333.0       117.0         1.6509             85700.0  \n",
      "3       515.0       226.0         3.1917             73400.0  \n",
      "4       624.0       262.0         1.9250             65500.0  \n",
      "   longitude  latitude  housing_median_age  total_rooms  total_bedrooms  \\\n",
      "0    -122.05     37.37                27.0       3885.0           661.0   \n",
      "1    -118.30     34.26                43.0       1510.0           310.0   \n",
      "2    -117.81     33.78                27.0       3589.0           507.0   \n",
      "\n",
      "   population  households  median_income  median_house_value  \n",
      "0      1537.0       606.0         6.6085            344700.0  \n",
      "1       809.0       277.0         3.5990            176500.0  \n",
      "2      1484.0       495.0         5.7934            270500.0  \n"
     ]
    },
    {
     "data": {
      "text/html": [
       "<div>\n",
       "<style scoped>\n",
       "    .dataframe tbody tr th:only-of-type {\n",
       "        vertical-align: middle;\n",
       "    }\n",
       "\n",
       "    .dataframe tbody tr th {\n",
       "        vertical-align: top;\n",
       "    }\n",
       "\n",
       "    .dataframe thead th {\n",
       "        text-align: right;\n",
       "    }\n",
       "</style>\n",
       "<table border=\"1\" class=\"dataframe\">\n",
       "  <thead>\n",
       "    <tr style=\"text-align: right;\">\n",
       "      <th></th>\n",
       "      <th>longitude</th>\n",
       "      <th>latitude</th>\n",
       "      <th>housing_median_age</th>\n",
       "      <th>total_rooms</th>\n",
       "      <th>total_bedrooms</th>\n",
       "      <th>population</th>\n",
       "      <th>households</th>\n",
       "      <th>median_income</th>\n",
       "      <th>median_house_value</th>\n",
       "    </tr>\n",
       "  </thead>\n",
       "  <tbody>\n",
       "    <tr>\n",
       "      <th>16995</th>\n",
       "      <td>-124.26</td>\n",
       "      <td>40.58</td>\n",
       "      <td>52.0</td>\n",
       "      <td>2217.0</td>\n",
       "      <td>394.0</td>\n",
       "      <td>907.0</td>\n",
       "      <td>369.0</td>\n",
       "      <td>2.3571</td>\n",
       "      <td>111400.0</td>\n",
       "    </tr>\n",
       "    <tr>\n",
       "      <th>16996</th>\n",
       "      <td>-124.27</td>\n",
       "      <td>40.69</td>\n",
       "      <td>36.0</td>\n",
       "      <td>2349.0</td>\n",
       "      <td>528.0</td>\n",
       "      <td>1194.0</td>\n",
       "      <td>465.0</td>\n",
       "      <td>2.5179</td>\n",
       "      <td>79000.0</td>\n",
       "    </tr>\n",
       "    <tr>\n",
       "      <th>16997</th>\n",
       "      <td>-124.30</td>\n",
       "      <td>41.84</td>\n",
       "      <td>17.0</td>\n",
       "      <td>2677.0</td>\n",
       "      <td>531.0</td>\n",
       "      <td>1244.0</td>\n",
       "      <td>456.0</td>\n",
       "      <td>3.0313</td>\n",
       "      <td>103600.0</td>\n",
       "    </tr>\n",
       "    <tr>\n",
       "      <th>16998</th>\n",
       "      <td>-124.30</td>\n",
       "      <td>41.80</td>\n",
       "      <td>19.0</td>\n",
       "      <td>2672.0</td>\n",
       "      <td>552.0</td>\n",
       "      <td>1298.0</td>\n",
       "      <td>478.0</td>\n",
       "      <td>1.9797</td>\n",
       "      <td>85800.0</td>\n",
       "    </tr>\n",
       "    <tr>\n",
       "      <th>16999</th>\n",
       "      <td>-124.35</td>\n",
       "      <td>40.54</td>\n",
       "      <td>52.0</td>\n",
       "      <td>1820.0</td>\n",
       "      <td>300.0</td>\n",
       "      <td>806.0</td>\n",
       "      <td>270.0</td>\n",
       "      <td>3.0147</td>\n",
       "      <td>94600.0</td>\n",
       "    </tr>\n",
       "  </tbody>\n",
       "</table>\n",
       "</div>"
      ],
      "text/plain": [
       "       longitude  latitude  housing_median_age  total_rooms  total_bedrooms  \\\n",
       "16995    -124.26     40.58                52.0       2217.0           394.0   \n",
       "16996    -124.27     40.69                36.0       2349.0           528.0   \n",
       "16997    -124.30     41.84                17.0       2677.0           531.0   \n",
       "16998    -124.30     41.80                19.0       2672.0           552.0   \n",
       "16999    -124.35     40.54                52.0       1820.0           300.0   \n",
       "\n",
       "       population  households  median_income  median_house_value  \n",
       "16995       907.0       369.0         2.3571            111400.0  \n",
       "16996      1194.0       465.0         2.5179             79000.0  \n",
       "16997      1244.0       456.0         3.0313            103600.0  \n",
       "16998      1298.0       478.0         1.9797             85800.0  \n",
       "16999       806.0       270.0         3.0147             94600.0  "
      ]
     },
     "execution_count": 4,
     "metadata": {},
     "output_type": "execute_result"
    }
   ],
   "source": [
    "print(data_tr.head())     # 5행만 보기\n",
    "print(data_test.head(3)) # 3행만 보기\n",
    "# tail를 이용하여 뒤에 5행을 볼 수 있음.\n",
    "data_tr.tail()     # 뒤에서 5행만 보기"
   ]
  },
  {
   "cell_type": "markdown",
   "metadata": {
    "colab_type": "text",
    "id": "T8cPdXG3nj-5"
   },
   "source": [
    "### 파일 만들기(csv, excel)"
   ]
  },
  {
   "cell_type": "code",
   "execution_count": 5,
   "metadata": {
    "colab": {},
    "colab_type": "code",
    "id": "HGdxlhPuna1c"
   },
   "outputs": [],
   "source": [
    "### 구글 콜랩의 데이터 셋을 이용해서 csv, excel파일을 만들자.\n",
    "data_tr.to_csv(\"data.csv\", index=False)\n",
    "data_tr.to_excel(\"data.xlsx\", index=True)\n",
    "\n",
    "### 파일을 불러와 보자.\n",
    "excel_data = pd.read_excel(\"data.xlsx\")\n",
    "csv_data = pd.read_csv(\"data.csv\")"
   ]
  },
  {
   "cell_type": "code",
   "execution_count": 6,
   "metadata": {
    "colab": {
     "base_uri": "https://localhost:8080/",
     "height": 34
    },
    "colab_type": "code",
    "id": "cy96CJFEqZnS",
    "outputId": "218ea16f-2664-4eae-ebf6-ba8ab0ffde5d"
   },
   "outputs": [
    {
     "name": "stderr",
     "output_type": "stream",
     "text": [
      "'ls'은(는) 내부 또는 외부 명령, 실행할 수 있는 프로그램, 또는\n",
      "배치 파일이 아닙니다.\n"
     ]
    }
   ],
   "source": [
    "### 파일 생성 확인(리눅스 명령 이용)\n",
    "!ls"
   ]
  },
  {
   "cell_type": "code",
   "execution_count": 7,
   "metadata": {
    "colab": {
     "base_uri": "https://localhost:8080/",
     "height": 212
    },
    "colab_type": "code",
    "id": "WxtEI_OkrjpW",
    "outputId": "cd8b4819-90c6-4c64-87bd-68dbed4da493"
   },
   "outputs": [
    {
     "data": {
      "text/html": [
       "<div>\n",
       "<style scoped>\n",
       "    .dataframe tbody tr th:only-of-type {\n",
       "        vertical-align: middle;\n",
       "    }\n",
       "\n",
       "    .dataframe tbody tr th {\n",
       "        vertical-align: top;\n",
       "    }\n",
       "\n",
       "    .dataframe thead th {\n",
       "        text-align: right;\n",
       "    }\n",
       "</style>\n",
       "<table border=\"1\" class=\"dataframe\">\n",
       "  <thead>\n",
       "    <tr style=\"text-align: right;\">\n",
       "      <th></th>\n",
       "      <th>Unnamed: 0</th>\n",
       "      <th>longitude</th>\n",
       "      <th>latitude</th>\n",
       "      <th>housing_median_age</th>\n",
       "      <th>total_rooms</th>\n",
       "      <th>total_bedrooms</th>\n",
       "      <th>population</th>\n",
       "      <th>households</th>\n",
       "      <th>median_income</th>\n",
       "      <th>median_house_value</th>\n",
       "    </tr>\n",
       "  </thead>\n",
       "  <tbody>\n",
       "    <tr>\n",
       "      <th>0</th>\n",
       "      <td>0</td>\n",
       "      <td>-114.31</td>\n",
       "      <td>34.19</td>\n",
       "      <td>15</td>\n",
       "      <td>5612</td>\n",
       "      <td>1283</td>\n",
       "      <td>1015</td>\n",
       "      <td>472</td>\n",
       "      <td>1.4936</td>\n",
       "      <td>66900</td>\n",
       "    </tr>\n",
       "    <tr>\n",
       "      <th>1</th>\n",
       "      <td>1</td>\n",
       "      <td>-114.47</td>\n",
       "      <td>34.40</td>\n",
       "      <td>19</td>\n",
       "      <td>7650</td>\n",
       "      <td>1901</td>\n",
       "      <td>1129</td>\n",
       "      <td>463</td>\n",
       "      <td>1.8200</td>\n",
       "      <td>80100</td>\n",
       "    </tr>\n",
       "    <tr>\n",
       "      <th>2</th>\n",
       "      <td>2</td>\n",
       "      <td>-114.56</td>\n",
       "      <td>33.69</td>\n",
       "      <td>17</td>\n",
       "      <td>720</td>\n",
       "      <td>174</td>\n",
       "      <td>333</td>\n",
       "      <td>117</td>\n",
       "      <td>1.6509</td>\n",
       "      <td>85700</td>\n",
       "    </tr>\n",
       "    <tr>\n",
       "      <th>3</th>\n",
       "      <td>3</td>\n",
       "      <td>-114.57</td>\n",
       "      <td>33.64</td>\n",
       "      <td>14</td>\n",
       "      <td>1501</td>\n",
       "      <td>337</td>\n",
       "      <td>515</td>\n",
       "      <td>226</td>\n",
       "      <td>3.1917</td>\n",
       "      <td>73400</td>\n",
       "    </tr>\n",
       "    <tr>\n",
       "      <th>4</th>\n",
       "      <td>4</td>\n",
       "      <td>-114.57</td>\n",
       "      <td>33.57</td>\n",
       "      <td>20</td>\n",
       "      <td>1454</td>\n",
       "      <td>326</td>\n",
       "      <td>624</td>\n",
       "      <td>262</td>\n",
       "      <td>1.9250</td>\n",
       "      <td>65500</td>\n",
       "    </tr>\n",
       "  </tbody>\n",
       "</table>\n",
       "</div>"
      ],
      "text/plain": [
       "   Unnamed: 0  longitude  latitude  housing_median_age  total_rooms  \\\n",
       "0           0    -114.31     34.19                  15         5612   \n",
       "1           1    -114.47     34.40                  19         7650   \n",
       "2           2    -114.56     33.69                  17          720   \n",
       "3           3    -114.57     33.64                  14         1501   \n",
       "4           4    -114.57     33.57                  20         1454   \n",
       "\n",
       "   total_bedrooms  population  households  median_income  median_house_value  \n",
       "0            1283        1015         472         1.4936               66900  \n",
       "1            1901        1129         463         1.8200               80100  \n",
       "2             174         333         117         1.6509               85700  \n",
       "3             337         515         226         3.1917               73400  \n",
       "4             326         624         262         1.9250               65500  "
      ]
     },
     "execution_count": 7,
     "metadata": {},
     "output_type": "execute_result"
    }
   ],
   "source": [
    "excel_data.head()"
   ]
  },
  {
   "cell_type": "code",
   "execution_count": 8,
   "metadata": {
    "colab": {
     "base_uri": "https://localhost:8080/",
     "height": 195
    },
    "colab_type": "code",
    "id": "5k56w9J7sJh4",
    "outputId": "beea97cc-8462-4cc0-b798-81babb2fdd9b"
   },
   "outputs": [
    {
     "data": {
      "text/html": [
       "<div>\n",
       "<style scoped>\n",
       "    .dataframe tbody tr th:only-of-type {\n",
       "        vertical-align: middle;\n",
       "    }\n",
       "\n",
       "    .dataframe tbody tr th {\n",
       "        vertical-align: top;\n",
       "    }\n",
       "\n",
       "    .dataframe thead th {\n",
       "        text-align: right;\n",
       "    }\n",
       "</style>\n",
       "<table border=\"1\" class=\"dataframe\">\n",
       "  <thead>\n",
       "    <tr style=\"text-align: right;\">\n",
       "      <th></th>\n",
       "      <th>longitude</th>\n",
       "      <th>latitude</th>\n",
       "      <th>housing_median_age</th>\n",
       "      <th>total_rooms</th>\n",
       "      <th>total_bedrooms</th>\n",
       "      <th>population</th>\n",
       "      <th>households</th>\n",
       "      <th>median_income</th>\n",
       "      <th>median_house_value</th>\n",
       "    </tr>\n",
       "  </thead>\n",
       "  <tbody>\n",
       "    <tr>\n",
       "      <th>0</th>\n",
       "      <td>-114.31</td>\n",
       "      <td>34.19</td>\n",
       "      <td>15.0</td>\n",
       "      <td>5612.0</td>\n",
       "      <td>1283.0</td>\n",
       "      <td>1015.0</td>\n",
       "      <td>472.0</td>\n",
       "      <td>1.4936</td>\n",
       "      <td>66900.0</td>\n",
       "    </tr>\n",
       "    <tr>\n",
       "      <th>1</th>\n",
       "      <td>-114.47</td>\n",
       "      <td>34.40</td>\n",
       "      <td>19.0</td>\n",
       "      <td>7650.0</td>\n",
       "      <td>1901.0</td>\n",
       "      <td>1129.0</td>\n",
       "      <td>463.0</td>\n",
       "      <td>1.8200</td>\n",
       "      <td>80100.0</td>\n",
       "    </tr>\n",
       "    <tr>\n",
       "      <th>2</th>\n",
       "      <td>-114.56</td>\n",
       "      <td>33.69</td>\n",
       "      <td>17.0</td>\n",
       "      <td>720.0</td>\n",
       "      <td>174.0</td>\n",
       "      <td>333.0</td>\n",
       "      <td>117.0</td>\n",
       "      <td>1.6509</td>\n",
       "      <td>85700.0</td>\n",
       "    </tr>\n",
       "    <tr>\n",
       "      <th>3</th>\n",
       "      <td>-114.57</td>\n",
       "      <td>33.64</td>\n",
       "      <td>14.0</td>\n",
       "      <td>1501.0</td>\n",
       "      <td>337.0</td>\n",
       "      <td>515.0</td>\n",
       "      <td>226.0</td>\n",
       "      <td>3.1917</td>\n",
       "      <td>73400.0</td>\n",
       "    </tr>\n",
       "    <tr>\n",
       "      <th>4</th>\n",
       "      <td>-114.57</td>\n",
       "      <td>33.57</td>\n",
       "      <td>20.0</td>\n",
       "      <td>1454.0</td>\n",
       "      <td>326.0</td>\n",
       "      <td>624.0</td>\n",
       "      <td>262.0</td>\n",
       "      <td>1.9250</td>\n",
       "      <td>65500.0</td>\n",
       "    </tr>\n",
       "  </tbody>\n",
       "</table>\n",
       "</div>"
      ],
      "text/plain": [
       "   longitude  latitude  housing_median_age  total_rooms  total_bedrooms  \\\n",
       "0    -114.31     34.19                15.0       5612.0          1283.0   \n",
       "1    -114.47     34.40                19.0       7650.0          1901.0   \n",
       "2    -114.56     33.69                17.0        720.0           174.0   \n",
       "3    -114.57     33.64                14.0       1501.0           337.0   \n",
       "4    -114.57     33.57                20.0       1454.0           326.0   \n",
       "\n",
       "   population  households  median_income  median_house_value  \n",
       "0      1015.0       472.0         1.4936             66900.0  \n",
       "1      1129.0       463.0         1.8200             80100.0  \n",
       "2       333.0       117.0         1.6509             85700.0  \n",
       "3       515.0       226.0         3.1917             73400.0  \n",
       "4       624.0       262.0         1.9250             65500.0  "
      ]
     },
     "execution_count": 8,
     "metadata": {},
     "output_type": "execute_result"
    }
   ],
   "source": [
    "csv_data.head()"
   ]
  },
  {
   "cell_type": "code",
   "execution_count": 9,
   "metadata": {
    "colab": {},
    "colab_type": "code",
    "id": "xtK4_E-g3_HT"
   },
   "outputs": [
    {
     "ename": "FileNotFoundError",
     "evalue": "[Errno 2] File b'sample_data/california_housing_train.csv' does not exist: b'sample_data/california_housing_train.csv'",
     "output_type": "error",
     "traceback": [
      "\u001b[1;31m---------------------------------------------------------------------------\u001b[0m",
      "\u001b[1;31mFileNotFoundError\u001b[0m                         Traceback (most recent call last)",
      "\u001b[1;32m<ipython-input-9-b0b012c74a52>\u001b[0m in \u001b[0;36m<module>\u001b[1;34m\u001b[0m\n\u001b[1;32m----> 1\u001b[1;33m \u001b[0mdata_tr\u001b[0m \u001b[1;33m=\u001b[0m \u001b[0mpd\u001b[0m\u001b[1;33m.\u001b[0m\u001b[0mread_csv\u001b[0m\u001b[1;33m(\u001b[0m\u001b[1;34m\"sample_data/california_housing_train.csv\"\u001b[0m\u001b[1;33m)\u001b[0m\u001b[1;33m\u001b[0m\u001b[1;33m\u001b[0m\u001b[0m\n\u001b[0m\u001b[0;32m      2\u001b[0m \u001b[0mdata_test\u001b[0m \u001b[1;33m=\u001b[0m \u001b[0mpd\u001b[0m\u001b[1;33m.\u001b[0m\u001b[0mread_csv\u001b[0m\u001b[1;33m(\u001b[0m\u001b[1;34m\"sample_data/california_housing_test.csv\"\u001b[0m\u001b[1;33m)\u001b[0m\u001b[1;33m\u001b[0m\u001b[1;33m\u001b[0m\u001b[0m\n",
      "\u001b[1;32m~\\Anaconda3\\lib\\site-packages\\pandas\\io\\parsers.py\u001b[0m in \u001b[0;36mparser_f\u001b[1;34m(filepath_or_buffer, sep, delimiter, header, names, index_col, usecols, squeeze, prefix, mangle_dupe_cols, dtype, engine, converters, true_values, false_values, skipinitialspace, skiprows, skipfooter, nrows, na_values, keep_default_na, na_filter, verbose, skip_blank_lines, parse_dates, infer_datetime_format, keep_date_col, date_parser, dayfirst, iterator, chunksize, compression, thousands, decimal, lineterminator, quotechar, quoting, doublequote, escapechar, comment, encoding, dialect, tupleize_cols, error_bad_lines, warn_bad_lines, delim_whitespace, low_memory, memory_map, float_precision)\u001b[0m\n\u001b[0;32m    700\u001b[0m                     skip_blank_lines=skip_blank_lines)\n\u001b[0;32m    701\u001b[0m \u001b[1;33m\u001b[0m\u001b[0m\n\u001b[1;32m--> 702\u001b[1;33m         \u001b[1;32mreturn\u001b[0m \u001b[0m_read\u001b[0m\u001b[1;33m(\u001b[0m\u001b[0mfilepath_or_buffer\u001b[0m\u001b[1;33m,\u001b[0m \u001b[0mkwds\u001b[0m\u001b[1;33m)\u001b[0m\u001b[1;33m\u001b[0m\u001b[1;33m\u001b[0m\u001b[0m\n\u001b[0m\u001b[0;32m    703\u001b[0m \u001b[1;33m\u001b[0m\u001b[0m\n\u001b[0;32m    704\u001b[0m     \u001b[0mparser_f\u001b[0m\u001b[1;33m.\u001b[0m\u001b[0m__name__\u001b[0m \u001b[1;33m=\u001b[0m \u001b[0mname\u001b[0m\u001b[1;33m\u001b[0m\u001b[1;33m\u001b[0m\u001b[0m\n",
      "\u001b[1;32m~\\Anaconda3\\lib\\site-packages\\pandas\\io\\parsers.py\u001b[0m in \u001b[0;36m_read\u001b[1;34m(filepath_or_buffer, kwds)\u001b[0m\n\u001b[0;32m    427\u001b[0m \u001b[1;33m\u001b[0m\u001b[0m\n\u001b[0;32m    428\u001b[0m     \u001b[1;31m# Create the parser.\u001b[0m\u001b[1;33m\u001b[0m\u001b[1;33m\u001b[0m\u001b[1;33m\u001b[0m\u001b[0m\n\u001b[1;32m--> 429\u001b[1;33m     \u001b[0mparser\u001b[0m \u001b[1;33m=\u001b[0m \u001b[0mTextFileReader\u001b[0m\u001b[1;33m(\u001b[0m\u001b[0mfilepath_or_buffer\u001b[0m\u001b[1;33m,\u001b[0m \u001b[1;33m**\u001b[0m\u001b[0mkwds\u001b[0m\u001b[1;33m)\u001b[0m\u001b[1;33m\u001b[0m\u001b[1;33m\u001b[0m\u001b[0m\n\u001b[0m\u001b[0;32m    430\u001b[0m \u001b[1;33m\u001b[0m\u001b[0m\n\u001b[0;32m    431\u001b[0m     \u001b[1;32mif\u001b[0m \u001b[0mchunksize\u001b[0m \u001b[1;32mor\u001b[0m \u001b[0miterator\u001b[0m\u001b[1;33m:\u001b[0m\u001b[1;33m\u001b[0m\u001b[1;33m\u001b[0m\u001b[0m\n",
      "\u001b[1;32m~\\Anaconda3\\lib\\site-packages\\pandas\\io\\parsers.py\u001b[0m in \u001b[0;36m__init__\u001b[1;34m(self, f, engine, **kwds)\u001b[0m\n\u001b[0;32m    893\u001b[0m             \u001b[0mself\u001b[0m\u001b[1;33m.\u001b[0m\u001b[0moptions\u001b[0m\u001b[1;33m[\u001b[0m\u001b[1;34m'has_index_names'\u001b[0m\u001b[1;33m]\u001b[0m \u001b[1;33m=\u001b[0m \u001b[0mkwds\u001b[0m\u001b[1;33m[\u001b[0m\u001b[1;34m'has_index_names'\u001b[0m\u001b[1;33m]\u001b[0m\u001b[1;33m\u001b[0m\u001b[1;33m\u001b[0m\u001b[0m\n\u001b[0;32m    894\u001b[0m \u001b[1;33m\u001b[0m\u001b[0m\n\u001b[1;32m--> 895\u001b[1;33m         \u001b[0mself\u001b[0m\u001b[1;33m.\u001b[0m\u001b[0m_make_engine\u001b[0m\u001b[1;33m(\u001b[0m\u001b[0mself\u001b[0m\u001b[1;33m.\u001b[0m\u001b[0mengine\u001b[0m\u001b[1;33m)\u001b[0m\u001b[1;33m\u001b[0m\u001b[1;33m\u001b[0m\u001b[0m\n\u001b[0m\u001b[0;32m    896\u001b[0m \u001b[1;33m\u001b[0m\u001b[0m\n\u001b[0;32m    897\u001b[0m     \u001b[1;32mdef\u001b[0m \u001b[0mclose\u001b[0m\u001b[1;33m(\u001b[0m\u001b[0mself\u001b[0m\u001b[1;33m)\u001b[0m\u001b[1;33m:\u001b[0m\u001b[1;33m\u001b[0m\u001b[1;33m\u001b[0m\u001b[0m\n",
      "\u001b[1;32m~\\Anaconda3\\lib\\site-packages\\pandas\\io\\parsers.py\u001b[0m in \u001b[0;36m_make_engine\u001b[1;34m(self, engine)\u001b[0m\n\u001b[0;32m   1120\u001b[0m     \u001b[1;32mdef\u001b[0m \u001b[0m_make_engine\u001b[0m\u001b[1;33m(\u001b[0m\u001b[0mself\u001b[0m\u001b[1;33m,\u001b[0m \u001b[0mengine\u001b[0m\u001b[1;33m=\u001b[0m\u001b[1;34m'c'\u001b[0m\u001b[1;33m)\u001b[0m\u001b[1;33m:\u001b[0m\u001b[1;33m\u001b[0m\u001b[1;33m\u001b[0m\u001b[0m\n\u001b[0;32m   1121\u001b[0m         \u001b[1;32mif\u001b[0m \u001b[0mengine\u001b[0m \u001b[1;33m==\u001b[0m \u001b[1;34m'c'\u001b[0m\u001b[1;33m:\u001b[0m\u001b[1;33m\u001b[0m\u001b[1;33m\u001b[0m\u001b[0m\n\u001b[1;32m-> 1122\u001b[1;33m             \u001b[0mself\u001b[0m\u001b[1;33m.\u001b[0m\u001b[0m_engine\u001b[0m \u001b[1;33m=\u001b[0m \u001b[0mCParserWrapper\u001b[0m\u001b[1;33m(\u001b[0m\u001b[0mself\u001b[0m\u001b[1;33m.\u001b[0m\u001b[0mf\u001b[0m\u001b[1;33m,\u001b[0m \u001b[1;33m**\u001b[0m\u001b[0mself\u001b[0m\u001b[1;33m.\u001b[0m\u001b[0moptions\u001b[0m\u001b[1;33m)\u001b[0m\u001b[1;33m\u001b[0m\u001b[1;33m\u001b[0m\u001b[0m\n\u001b[0m\u001b[0;32m   1123\u001b[0m         \u001b[1;32melse\u001b[0m\u001b[1;33m:\u001b[0m\u001b[1;33m\u001b[0m\u001b[1;33m\u001b[0m\u001b[0m\n\u001b[0;32m   1124\u001b[0m             \u001b[1;32mif\u001b[0m \u001b[0mengine\u001b[0m \u001b[1;33m==\u001b[0m \u001b[1;34m'python'\u001b[0m\u001b[1;33m:\u001b[0m\u001b[1;33m\u001b[0m\u001b[1;33m\u001b[0m\u001b[0m\n",
      "\u001b[1;32m~\\Anaconda3\\lib\\site-packages\\pandas\\io\\parsers.py\u001b[0m in \u001b[0;36m__init__\u001b[1;34m(self, src, **kwds)\u001b[0m\n\u001b[0;32m   1851\u001b[0m         \u001b[0mkwds\u001b[0m\u001b[1;33m[\u001b[0m\u001b[1;34m'usecols'\u001b[0m\u001b[1;33m]\u001b[0m \u001b[1;33m=\u001b[0m \u001b[0mself\u001b[0m\u001b[1;33m.\u001b[0m\u001b[0musecols\u001b[0m\u001b[1;33m\u001b[0m\u001b[1;33m\u001b[0m\u001b[0m\n\u001b[0;32m   1852\u001b[0m \u001b[1;33m\u001b[0m\u001b[0m\n\u001b[1;32m-> 1853\u001b[1;33m         \u001b[0mself\u001b[0m\u001b[1;33m.\u001b[0m\u001b[0m_reader\u001b[0m \u001b[1;33m=\u001b[0m \u001b[0mparsers\u001b[0m\u001b[1;33m.\u001b[0m\u001b[0mTextReader\u001b[0m\u001b[1;33m(\u001b[0m\u001b[0msrc\u001b[0m\u001b[1;33m,\u001b[0m \u001b[1;33m**\u001b[0m\u001b[0mkwds\u001b[0m\u001b[1;33m)\u001b[0m\u001b[1;33m\u001b[0m\u001b[1;33m\u001b[0m\u001b[0m\n\u001b[0m\u001b[0;32m   1854\u001b[0m         \u001b[0mself\u001b[0m\u001b[1;33m.\u001b[0m\u001b[0munnamed_cols\u001b[0m \u001b[1;33m=\u001b[0m \u001b[0mself\u001b[0m\u001b[1;33m.\u001b[0m\u001b[0m_reader\u001b[0m\u001b[1;33m.\u001b[0m\u001b[0munnamed_cols\u001b[0m\u001b[1;33m\u001b[0m\u001b[1;33m\u001b[0m\u001b[0m\n\u001b[0;32m   1855\u001b[0m \u001b[1;33m\u001b[0m\u001b[0m\n",
      "\u001b[1;32mpandas/_libs/parsers.pyx\u001b[0m in \u001b[0;36mpandas._libs.parsers.TextReader.__cinit__\u001b[1;34m()\u001b[0m\n",
      "\u001b[1;32mpandas/_libs/parsers.pyx\u001b[0m in \u001b[0;36mpandas._libs.parsers.TextReader._setup_parser_source\u001b[1;34m()\u001b[0m\n",
      "\u001b[1;31mFileNotFoundError\u001b[0m: [Errno 2] File b'sample_data/california_housing_train.csv' does not exist: b'sample_data/california_housing_train.csv'"
     ]
    }
   ],
   "source": [
    "data_tr = pd.read_csv(\"sample_data/california_housing_train.csv\")\n",
    "data_test = pd.read_csv(\"sample_data/california_housing_test.csv\")"
   ]
  },
  {
   "cell_type": "markdown",
   "metadata": {
    "colab_type": "text",
    "id": "Vrq7fxC5nvQE"
   },
   "source": [
    "### 데이터의 컬럼명 확인"
   ]
  },
  {
   "cell_type": "code",
   "execution_count": 10,
   "metadata": {
    "colab": {
     "base_uri": "https://localhost:8080/",
     "height": 158
    },
    "colab_type": "code",
    "id": "UEr0QS0fsKn8",
    "outputId": "4708067a-95a4-475e-a908-7f2f7d749a0b"
   },
   "outputs": [
    {
     "name": "stdout",
     "output_type": "stream",
     "text": [
      "데이터 열의 제목(train) :  Index(['longitude', 'latitude', 'housing_median_age', 'total_rooms',\n",
      "       'total_bedrooms', 'population', 'households', 'median_income',\n",
      "       'median_house_value'],\n",
      "      dtype='object')\n",
      "데이터 열의 제목(test) :  Index(['longitude', 'latitude', 'housing_median_age', 'total_rooms',\n",
      "       'total_bedrooms', 'population', 'households', 'median_income',\n",
      "       'median_house_value'],\n",
      "      dtype='object')\n"
     ]
    }
   ],
   "source": [
    "print(\"데이터 열의 제목(train) : \", data_tr.columns) \n",
    "print(\"데이터 열의 제목(test) : \", data_test.columns) "
   ]
  },
  {
   "cell_type": "markdown",
   "metadata": {
    "colab_type": "text",
    "id": "Q4sooPrwnyRh"
   },
   "source": [
    "### 데이터의 정보 확인\n",
    "  * 컬럼의 자료형, 행열, 비어있는 값의 개수"
   ]
  },
  {
   "cell_type": "code",
   "execution_count": 11,
   "metadata": {
    "colab": {
     "base_uri": "https://localhost:8080/",
     "height": 281
    },
    "colab_type": "code",
    "id": "BhFGhqPPuDFE",
    "outputId": "ff92df96-8d25-432c-f6f0-ec7cefea253a"
   },
   "outputs": [
    {
     "name": "stdout",
     "output_type": "stream",
     "text": [
      "<class 'pandas.core.frame.DataFrame'>\n",
      "RangeIndex: 17000 entries, 0 to 16999\n",
      "Data columns (total 9 columns):\n",
      "longitude             17000 non-null float64\n",
      "latitude              17000 non-null float64\n",
      "housing_median_age    17000 non-null float64\n",
      "total_rooms           17000 non-null float64\n",
      "total_bedrooms        17000 non-null float64\n",
      "population            17000 non-null float64\n",
      "households            17000 non-null float64\n",
      "median_income         17000 non-null float64\n",
      "median_house_value    17000 non-null float64\n",
      "dtypes: float64(9)\n",
      "memory usage: 1.2 MB\n",
      "None\n"
     ]
    }
   ],
   "source": [
    "print(data_tr.info() ) "
   ]
  },
  {
   "cell_type": "code",
   "execution_count": 12,
   "metadata": {
    "colab": {
     "base_uri": "https://localhost:8080/",
     "height": 281
    },
    "colab_type": "code",
    "id": "kQs4TM7FwKnW",
    "outputId": "7a6d5088-9ca8-48c3-b6da-025d00cd07ad"
   },
   "outputs": [
    {
     "name": "stdout",
     "output_type": "stream",
     "text": [
      "<class 'pandas.core.frame.DataFrame'>\n",
      "RangeIndex: 3000 entries, 0 to 2999\n",
      "Data columns (total 9 columns):\n",
      "longitude             3000 non-null float64\n",
      "latitude              3000 non-null float64\n",
      "housing_median_age    3000 non-null float64\n",
      "total_rooms           3000 non-null float64\n",
      "total_bedrooms        3000 non-null float64\n",
      "population            3000 non-null float64\n",
      "households            3000 non-null float64\n",
      "median_income         3000 non-null float64\n",
      "median_house_value    3000 non-null float64\n",
      "dtypes: float64(9)\n",
      "memory usage: 211.0 KB\n",
      "None\n"
     ]
    }
   ],
   "source": [
    "print(data_test.info() ) "
   ]
  },
  {
   "cell_type": "markdown",
   "metadata": {
    "colab_type": "text",
    "id": "mX_qwRBTn8p8"
   },
   "source": [
    "### 데이터의 빈 값을 채우기"
   ]
  },
  {
   "cell_type": "code",
   "execution_count": 13,
   "metadata": {
    "colab": {
     "base_uri": "https://localhost:8080/",
     "height": 298
    },
    "colab_type": "code",
    "id": "RyMm50dswNye",
    "outputId": "5c2a731e-22a0-4af3-8b43-5b580af4c411"
   },
   "outputs": [
    {
     "name": "stdout",
     "output_type": "stream",
     "text": [
      "   longitude  latitude  housing_median_age  total_rooms  total_bedrooms  \\\n",
      "0    -114.31       NaN                15.0       5612.0          1283.0   \n",
      "1    -114.47     34.40                19.0       7650.0          1901.0   \n",
      "2    -114.56     33.69                17.0        720.0           174.0   \n",
      "3    -114.57     33.64                14.0       1501.0           337.0   \n",
      "4    -114.57     33.57                20.0       1454.0           326.0   \n",
      "\n",
      "   population  households  median_income  median_house_value  \n",
      "0      1015.0       472.0         1.4936             66900.0  \n",
      "1      1129.0       463.0         1.8200             80100.0  \n",
      "2       333.0       117.0         1.6509             85700.0  \n",
      "3       515.0       226.0         3.1917             73400.0  \n",
      "4       624.0       262.0         1.9250             65500.0  \n",
      "   longitude  latitude  housing_median_age  total_rooms  total_bedrooms  \\\n",
      "0    -122.05     37.37                27.0       3885.0           661.0   \n",
      "1    -118.30     34.26                43.0       1510.0           310.0   \n",
      "2    -117.81       NaN                 NaN          NaN             NaN   \n",
      "3    -118.36     33.82                28.0         67.0            15.0   \n",
      "4    -119.67     36.33                19.0       1241.0           244.0   \n",
      "\n",
      "   population  households  median_income  median_house_value  \n",
      "0      1537.0       606.0         6.6085            344700.0  \n",
      "1       809.0       277.0         3.5990            176500.0  \n",
      "2         NaN         NaN            NaN            270500.0  \n",
      "3        49.0        11.0         6.1359            330000.0  \n",
      "4       850.0       237.0         2.9375             81700.0  \n"
     ]
    }
   ],
   "source": [
    "import numpy as np\n",
    "data_tr.iloc[0,1] = np.nan\n",
    "data_test.iloc[2,1:8] = np.nan\n",
    "\n",
    "print(data_tr.head() ) \n",
    "print(data_test.head() ) "
   ]
  },
  {
   "cell_type": "code",
   "execution_count": 14,
   "metadata": {
    "colab": {
     "base_uri": "https://localhost:8080/",
     "height": 562
    },
    "colab_type": "code",
    "id": "97xBDHRo0LQ3",
    "outputId": "d55c1e3b-48b6-46b3-a5f8-4f85205d632e"
   },
   "outputs": [
    {
     "name": "stdout",
     "output_type": "stream",
     "text": [
      "<class 'pandas.core.frame.DataFrame'>\n",
      "RangeIndex: 17000 entries, 0 to 16999\n",
      "Data columns (total 9 columns):\n",
      "longitude             17000 non-null float64\n",
      "latitude              16999 non-null float64\n",
      "housing_median_age    17000 non-null float64\n",
      "total_rooms           17000 non-null float64\n",
      "total_bedrooms        17000 non-null float64\n",
      "population            17000 non-null float64\n",
      "households            17000 non-null float64\n",
      "median_income         17000 non-null float64\n",
      "median_house_value    17000 non-null float64\n",
      "dtypes: float64(9)\n",
      "memory usage: 1.2 MB\n",
      "train 데이터 셋 :  None\n",
      "\n",
      "<class 'pandas.core.frame.DataFrame'>\n",
      "RangeIndex: 3000 entries, 0 to 2999\n",
      "Data columns (total 9 columns):\n",
      "longitude             3000 non-null float64\n",
      "latitude              2999 non-null float64\n",
      "housing_median_age    2999 non-null float64\n",
      "total_rooms           2999 non-null float64\n",
      "total_bedrooms        2999 non-null float64\n",
      "population            2999 non-null float64\n",
      "households            2999 non-null float64\n",
      "median_income         2999 non-null float64\n",
      "median_house_value    3000 non-null float64\n",
      "dtypes: float64(9)\n",
      "memory usage: 211.0 KB\n",
      "test 데이터 셋 :  None\n"
     ]
    }
   ],
   "source": [
    "print(\"train 데이터 셋 : \", data_tr.info() ) \n",
    "print()\n",
    "print(\"test 데이터 셋 : \", data_test.info() ) "
   ]
  },
  {
   "cell_type": "code",
   "execution_count": 15,
   "metadata": {
    "colab": {},
    "colab_type": "code",
    "id": "ybbRj0ieESIH"
   },
   "outputs": [],
   "source": [
    "import pandas as pd"
   ]
  },
  {
   "cell_type": "markdown",
   "metadata": {
    "colab_type": "text",
    "id": "LhtlKUUmoBvI"
   },
   "source": [
    "### 데이터 선택(iloc : 인덱스로 선택함)"
   ]
  },
  {
   "cell_type": "code",
   "execution_count": 19,
   "metadata": {
    "colab": {
     "base_uri": "https://localhost:8080/",
     "height": 193
    },
    "colab_type": "code",
    "id": "PhqAa1bG1l5w",
    "outputId": "1e6458fc-4e38-4de8-b688-d325d1a432b9"
   },
   "outputs": [
    {
     "name": "stdout",
     "output_type": "stream",
     "text": [
      "longitude              -114.47\n",
      "latitude                 34.40\n",
      "housing_median_age       19.00\n",
      "total_rooms            7650.00\n",
      "total_bedrooms         1901.00\n",
      "population             1129.00\n",
      "households              463.00\n",
      "median_income             1.82\n",
      "median_house_value    80100.00\n",
      "Name: 1, dtype: float64\n"
     ]
    }
   ],
   "source": [
    "base_dir = \"./\"\n",
    "data_tr = pd.read_csv(base_dir + \"california_housing_train.csv\")\n",
    "data_test = pd.read_csv(base_dir + \"california_housing_test.csv\")\n",
    "\n",
    "# 두번째 행 선택\n",
    "print(data_tr.iloc[1, :])"
   ]
  },
  {
   "cell_type": "code",
   "execution_count": 20,
   "metadata": {
    "colab": {
     "base_uri": "https://localhost:8080/",
     "height": 34
    },
    "colab_type": "code",
    "id": "QrRkDEsgEPTZ",
    "outputId": "26744d0c-6f72-4270-c23b-1264fe9c021d"
   },
   "outputs": [
    {
     "data": {
      "text/plain": [
       "(17000, 9)"
      ]
     },
     "execution_count": 20,
     "metadata": {},
     "output_type": "execute_result"
    }
   ],
   "source": [
    "data_tr.shape"
   ]
  },
  {
   "cell_type": "code",
   "execution_count": 21,
   "metadata": {
    "colab": {
     "base_uri": "https://localhost:8080/",
     "height": 334
    },
    "colab_type": "code",
    "id": "Cl1AgIDNH3yc",
    "outputId": "3bc1c76d-a09e-4926-da73-1c5a51f3f577"
   },
   "outputs": [
    {
     "name": "stdout",
     "output_type": "stream",
     "text": [
      "   longitude  latitude  housing_median_age  total_rooms  total_bedrooms  \\\n",
      "2    -114.56     33.69                17.0        720.0           174.0   \n",
      "3    -114.57     33.64                14.0       1501.0           337.0   \n",
      "\n",
      "   population  households  median_income  median_house_value  \n",
      "2       333.0       117.0         1.6509             85700.0  \n",
      "3       515.0       226.0         3.1917             73400.0  \n",
      "   longitude  latitude  housing_median_age  total_rooms  total_bedrooms  \\\n",
      "0    -114.31     34.19                15.0       5612.0          1283.0   \n",
      "1    -114.47     34.40                19.0       7650.0          1901.0   \n",
      "2    -114.56     33.69                17.0        720.0           174.0   \n",
      "3    -114.57     33.64                14.0       1501.0           337.0   \n",
      "\n",
      "   population  households  median_income  median_house_value  \n",
      "0      1015.0       472.0         1.4936             66900.0  \n",
      "1      1129.0       463.0         1.8200             80100.0  \n",
      "2       333.0       117.0         1.6509             85700.0  \n",
      "3       515.0       226.0         3.1917             73400.0  \n",
      "       longitude  latitude  housing_median_age  total_rooms  total_bedrooms  \\\n",
      "16997    -124.30     41.84                17.0       2677.0           531.0   \n",
      "16998    -124.30     41.80                19.0       2672.0           552.0   \n",
      "16999    -124.35     40.54                52.0       1820.0           300.0   \n",
      "\n",
      "       population  households  median_income  median_house_value  \n",
      "16997      1244.0       456.0         3.0313            103600.0  \n",
      "16998      1298.0       478.0         1.9797             85800.0  \n",
      "16999       806.0       270.0         3.0147             94600.0  \n"
     ]
    }
   ],
   "source": [
    "print(data_tr.iloc[2:4])    # (2+1)행부터 4행까지 선택\n",
    "print(data_tr.iloc[:4])     # 처음부터 4행까지 선택\n",
    "print(data_tr.iloc[16997:]) # 16998행부터 끝까지 선택"
   ]
  },
  {
   "cell_type": "code",
   "execution_count": 22,
   "metadata": {
    "colab": {
     "base_uri": "https://localhost:8080/",
     "height": 136
    },
    "colab_type": "code",
    "id": "oVLx2EnRO-Qq",
    "outputId": "ce522890-1a0a-4f87-cc6a-3ae8c5b845c6"
   },
   "outputs": [
    {
     "data": {
      "text/html": [
       "<div>\n",
       "<style scoped>\n",
       "    .dataframe tbody tr th:only-of-type {\n",
       "        vertical-align: middle;\n",
       "    }\n",
       "\n",
       "    .dataframe tbody tr th {\n",
       "        vertical-align: top;\n",
       "    }\n",
       "\n",
       "    .dataframe thead th {\n",
       "        text-align: right;\n",
       "    }\n",
       "</style>\n",
       "<table border=\"1\" class=\"dataframe\">\n",
       "  <thead>\n",
       "    <tr style=\"text-align: right;\">\n",
       "      <th></th>\n",
       "      <th>longitude</th>\n",
       "      <th>latitude</th>\n",
       "      <th>housing_median_age</th>\n",
       "      <th>total_rooms</th>\n",
       "      <th>total_bedrooms</th>\n",
       "      <th>population</th>\n",
       "      <th>households</th>\n",
       "      <th>median_income</th>\n",
       "      <th>median_house_value</th>\n",
       "    </tr>\n",
       "  </thead>\n",
       "  <tbody>\n",
       "    <tr>\n",
       "      <th>0</th>\n",
       "      <td>-114.31</td>\n",
       "      <td>34.19</td>\n",
       "      <td>15.0</td>\n",
       "      <td>5612.0</td>\n",
       "      <td>1283.0</td>\n",
       "      <td>1015.0</td>\n",
       "      <td>472.0</td>\n",
       "      <td>1.4936</td>\n",
       "      <td>66900.0</td>\n",
       "    </tr>\n",
       "    <tr>\n",
       "      <th>1</th>\n",
       "      <td>-114.47</td>\n",
       "      <td>34.40</td>\n",
       "      <td>19.0</td>\n",
       "      <td>7650.0</td>\n",
       "      <td>1901.0</td>\n",
       "      <td>1129.0</td>\n",
       "      <td>463.0</td>\n",
       "      <td>1.8200</td>\n",
       "      <td>80100.0</td>\n",
       "    </tr>\n",
       "    <tr>\n",
       "      <th>2</th>\n",
       "      <td>-114.56</td>\n",
       "      <td>33.69</td>\n",
       "      <td>17.0</td>\n",
       "      <td>720.0</td>\n",
       "      <td>174.0</td>\n",
       "      <td>333.0</td>\n",
       "      <td>117.0</td>\n",
       "      <td>1.6509</td>\n",
       "      <td>85700.0</td>\n",
       "    </tr>\n",
       "  </tbody>\n",
       "</table>\n",
       "</div>"
      ],
      "text/plain": [
       "   longitude  latitude  housing_median_age  total_rooms  total_bedrooms  \\\n",
       "0    -114.31     34.19                15.0       5612.0          1283.0   \n",
       "1    -114.47     34.40                19.0       7650.0          1901.0   \n",
       "2    -114.56     33.69                17.0        720.0           174.0   \n",
       "\n",
       "   population  households  median_income  median_house_value  \n",
       "0      1015.0       472.0         1.4936             66900.0  \n",
       "1      1129.0       463.0         1.8200             80100.0  \n",
       "2       333.0       117.0         1.6509             85700.0  "
      ]
     },
     "execution_count": 22,
     "metadata": {},
     "output_type": "execute_result"
    }
   ],
   "source": [
    "data_tr.head(3)"
   ]
  },
  {
   "cell_type": "markdown",
   "metadata": {
    "colab_type": "text",
    "id": "-wc6512uoH4d"
   },
   "source": [
    "### 데이터의 열선택\n",
    " * 컬럼명으로 데이터를 선택하기"
   ]
  },
  {
   "cell_type": "code",
   "execution_count": 23,
   "metadata": {
    "colab": {
     "base_uri": "https://localhost:8080/",
     "height": 140
    },
    "colab_type": "code",
    "id": "mPNv9F75Oh1R",
    "outputId": "786cfcca-c415-44c4-982d-84a04c569005"
   },
   "outputs": [
    {
     "name": "stdout",
     "output_type": "stream",
     "text": [
      "latitude 컬럼명으로 선택\n",
      "0    34.19\n",
      "1    34.40\n",
      "2    33.69\n",
      "3    33.64\n",
      "4    33.57\n",
      "Name: latitude, dtype: float64\n"
     ]
    }
   ],
   "source": [
    "# 열 선택(열 컬럼명으로 선택)\n",
    "print(\"latitude 컬럼명으로 선택\")\n",
    "col_sel = data_tr['latitude']\n",
    "print(col_sel.head())"
   ]
  },
  {
   "cell_type": "markdown",
   "metadata": {
    "colab_type": "text",
    "id": "Me2Mp6aeoPZo"
   },
   "source": [
    "### 데이터의 열선택(iloc 이용)"
   ]
  },
  {
   "cell_type": "code",
   "execution_count": 24,
   "metadata": {
    "colab": {
     "base_uri": "https://localhost:8080/",
     "height": 140
    },
    "colab_type": "code",
    "id": "Wb1bdM_QIB9e",
    "outputId": "3b6f911f-7708-4ae9-9f84-1cb54507f6b7"
   },
   "outputs": [
    {
     "name": "stdout",
     "output_type": "stream",
     "text": [
      "두번째 열 선택\n",
      "0    34.19\n",
      "1    34.40\n",
      "2    33.69\n",
      "3    33.64\n",
      "4    33.57\n",
      "Name: latitude, dtype: float64\n"
     ]
    }
   ],
   "source": [
    "# 두번째 열 선택(열도 0부터 시작하므로 지정값의 +1열)\n",
    "print(\"두번째 열 선택\")\n",
    "col_sel = data_tr.iloc[:,1]\n",
    "print( col_sel.head() )"
   ]
  },
  {
   "cell_type": "code",
   "execution_count": 25,
   "metadata": {
    "colab": {
     "base_uri": "https://localhost:8080/",
     "height": 140
    },
    "colab_type": "code",
    "id": "Fx75mDk8OWmz",
    "outputId": "c3b251b4-bd51-459e-f482-1f1c4900d2e4"
   },
   "outputs": [
    {
     "name": "stdout",
     "output_type": "stream",
     "text": [
      "컬럼명으로 선택_3개 컬럼\n",
      "   latitude  total_rooms  population\n",
      "0     34.19       5612.0      1015.0\n",
      "1     34.40       7650.0      1129.0\n",
      "2     33.69        720.0       333.0\n",
      "3     33.64       1501.0       515.0\n",
      "4     33.57       1454.0       624.0\n"
     ]
    }
   ],
   "source": [
    "# 복수열 선택 : 3개 열 선택(컬럼명으로)\n",
    "print(\"컬럼명으로 선택_3개 컬럼\")\n",
    "column_name = ['latitude', 'total_rooms', 'population']\n",
    "row_sel = data_tr[column_name]\n",
    "print( row_sel.head() )"
   ]
  },
  {
   "cell_type": "code",
   "execution_count": 26,
   "metadata": {
    "colab": {
     "base_uri": "https://localhost:8080/",
     "height": 140
    },
    "colab_type": "code",
    "id": "chU6JCVuOaKL",
    "outputId": "10b5c853-762b-4358-f023-0430e331e58d"
   },
   "outputs": [
    {
     "name": "stdout",
     "output_type": "stream",
     "text": [
      "컬럼명으로 선택_3개 컬럼\n",
      "   latitude  total_rooms  population\n",
      "0     34.19       5612.0      1015.0\n",
      "1     34.40       7650.0      1129.0\n",
      "2     33.69        720.0       333.0\n",
      "3     33.64       1501.0       515.0\n",
      "4     33.57       1454.0       624.0\n"
     ]
    }
   ],
   "source": [
    "# 복수열 선택 : 3개 열 선택(숫자 이용)\n",
    "print(\"컬럼명으로 선택_3개 컬럼\")\n",
    "row_sel = data_tr.iloc[:,[1,3,5]]\n",
    "print( row_sel.head() )"
   ]
  },
  {
   "cell_type": "code",
   "execution_count": 27,
   "metadata": {
    "colab": {
     "base_uri": "https://localhost:8080/",
     "height": 140
    },
    "colab_type": "code",
    "id": "BCMngX9xX6cI",
    "outputId": "c8e19f0c-8b1d-4c89-f379-ca0bea4654bd"
   },
   "outputs": [
    {
     "name": "stdout",
     "output_type": "stream",
     "text": [
      "데이터의 일부 가져오기\n",
      "   longitude  latitude  total_rooms  population\n",
      "0    -114.31     34.19       5612.0      1015.0\n",
      "1    -114.47     34.40       7650.0      1129.0\n",
      "2    -114.56     33.69        720.0       333.0\n",
      "3    -114.57     33.64       1501.0       515.0\n",
      "4    -114.57     33.57       1454.0       624.0\n"
     ]
    }
   ],
   "source": [
    "# 일부 데이터 선택 (iloc 를 이용 행과 열에 접근)\n",
    "# 1~10행, longitude, latitude, total_rooms, population에 접근 \n",
    "print(\"데이터의 일부 가져오기\")\n",
    "dat_part = data_tr.iloc[0:10,[0,1,3,5]]\n",
    "print( dat_part.head() )"
   ]
  },
  {
   "cell_type": "markdown",
   "metadata": {
    "colab_type": "text",
    "id": "1vSPL8hWoWBC"
   },
   "source": [
    "### 지도 시각화\n",
    " * folium 을 이용하기"
   ]
  },
  {
   "cell_type": "code",
   "execution_count": 28,
   "metadata": {
    "colab": {},
    "colab_type": "code",
    "id": "vpezzcQ6eRce"
   },
   "outputs": [],
   "source": [
    "import folium"
   ]
  },
  {
   "cell_type": "markdown",
   "metadata": {
    "colab_type": "text",
    "id": "AXPVUyccoZri"
   },
   "source": [
    "### 데이터 셋의 경도, 위도 정보를 이용해서 이에 대한 위치를 지도위에 표시"
   ]
  },
  {
   "cell_type": "code",
   "execution_count": 29,
   "metadata": {
    "colab": {
     "base_uri": "https://localhost:8080/",
     "height": 721
    },
    "colab_type": "code",
    "id": "IhxfskX0ht2F",
    "outputId": "dd0c37dc-04c2-43ff-a9ae-cc30ec6df075",
    "scrolled": true
   },
   "outputs": [
    {
     "name": "stdout",
     "output_type": "stream",
     "text": [
      "위도, 경도 34.0 -114.542\n",
      "방, 인구(평균 2832.9 1042.4\n"
     ]
    },
    {
     "data": {
      "text/html": [
       "<div style=\"width:100%;\"><div style=\"position:relative;width:100%;height:0;padding-bottom:60%;\"><span style=\"color:#565656\">Make this Notebook Trusted to load map: File -> Trust Notebook</span><iframe src=\"about:blank\" style=\"position:absolute;width:100%;height:100%;left:0;top:0;border:none !important;\" data-html=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 onload=\"this.contentDocument.open();this.contentDocument.write(atob(this.getAttribute('data-html')));this.contentDocument.close();\" allowfullscreen webkitallowfullscreen mozallowfullscreen></iframe></div></div>"
      ],
      "text/plain": [
       "<folium.folium.Map at 0x2f981bf4550>"
      ]
     },
     "execution_count": 29,
     "metadata": {},
     "output_type": "execute_result"
    }
   ],
   "source": [
    "lat_m = dat_part['latitude'].mean()  # 위도 위치의 평균\n",
    "log_m = dat_part['longitude'].mean() # 경도 위치의 평균\n",
    "rooms_m = dat_part['total_rooms'].mean() # 총 방수의 평균\n",
    "pop_m = dat_part['population'].mean() # 인구의 평균\n",
    "\n",
    "print(\"위도, 경도\", lat_m , log_m )\n",
    "print(\"방, 인구(평균\", rooms_m , pop_m )\n",
    "\n",
    "# 지도 중심위치 및 확대\n",
    "map1 = folium.Map(location=[lat_m, log_m], zoom_start=7)\n",
    "# Marker 설명(집, 인구) \n",
    "des = \"room : \" + str(rooms_m) + \"<br>\" + \"pop :\" + str(pop_m) \n",
    "\n",
    "folium.Marker([lat_m, log_m], popup=des).add_to(map1) # 마커 추가\n",
    "map1"
   ]
  },
  {
   "cell_type": "code",
   "execution_count": 31,
   "metadata": {
    "colab": {
     "base_uri": "https://localhost:8080/",
     "height": 34
    },
    "colab_type": "code",
    "id": "quT99OKLdV_x",
    "outputId": "8e9035de-96a5-40fd-d237-6d36a42728f9"
   },
   "outputs": [
    {
     "data": {
      "text/plain": [
       "Index(['long', 'lat', 'tot_rooms', 'pop'], dtype='object')"
      ]
     },
     "execution_count": 31,
     "metadata": {},
     "output_type": "execute_result"
    }
   ],
   "source": [
    "## 컬럼명 변경\n",
    "dat_part.columns = ['long', 'lat', 'tot_rooms', 'pop']\n",
    "dat_part.columns"
   ]
  },
  {
   "cell_type": "code",
   "execution_count": 32,
   "metadata": {
    "colab": {
     "base_uri": "https://localhost:8080/",
     "height": 284
    },
    "colab_type": "code",
    "id": "QsaYOrCmr0Kn",
    "outputId": "0af3e7c0-59c0-423e-8e16-5df46d75141b"
   },
   "outputs": [
    {
     "data": {
      "text/html": [
       "<div>\n",
       "<style scoped>\n",
       "    .dataframe tbody tr th:only-of-type {\n",
       "        vertical-align: middle;\n",
       "    }\n",
       "\n",
       "    .dataframe tbody tr th {\n",
       "        vertical-align: top;\n",
       "    }\n",
       "\n",
       "    .dataframe thead th {\n",
       "        text-align: right;\n",
       "    }\n",
       "</style>\n",
       "<table border=\"1\" class=\"dataframe\">\n",
       "  <thead>\n",
       "    <tr style=\"text-align: right;\">\n",
       "      <th></th>\n",
       "      <th>long</th>\n",
       "      <th>lat</th>\n",
       "      <th>tot_rooms</th>\n",
       "      <th>pop</th>\n",
       "    </tr>\n",
       "  </thead>\n",
       "  <tbody>\n",
       "    <tr>\n",
       "      <th>count</th>\n",
       "      <td>10.000000</td>\n",
       "      <td>10.000000</td>\n",
       "      <td>10.000000</td>\n",
       "      <td>10.000000</td>\n",
       "    </tr>\n",
       "    <tr>\n",
       "      <th>mean</th>\n",
       "      <td>-114.542000</td>\n",
       "      <td>34.000000</td>\n",
       "      <td>2832.900000</td>\n",
       "      <td>1042.400000</td>\n",
       "    </tr>\n",
       "    <tr>\n",
       "      <th>std</th>\n",
       "      <td>0.089294</td>\n",
       "      <td>0.519145</td>\n",
       "      <td>2377.174534</td>\n",
       "      <td>858.024242</td>\n",
       "    </tr>\n",
       "    <tr>\n",
       "      <th>min</th>\n",
       "      <td>-114.600000</td>\n",
       "      <td>33.570000</td>\n",
       "      <td>720.000000</td>\n",
       "      <td>333.000000</td>\n",
       "    </tr>\n",
       "    <tr>\n",
       "      <th>25%</th>\n",
       "      <td>-114.587500</td>\n",
       "      <td>33.615000</td>\n",
       "      <td>1403.750000</td>\n",
       "      <td>542.250000</td>\n",
       "    </tr>\n",
       "    <tr>\n",
       "      <th>50%</th>\n",
       "      <td>-114.575000</td>\n",
       "      <td>33.665000</td>\n",
       "      <td>1499.000000</td>\n",
       "      <td>729.000000</td>\n",
       "    </tr>\n",
       "    <tr>\n",
       "      <th>75%</th>\n",
       "      <td>-114.562500</td>\n",
       "      <td>34.347500</td>\n",
       "      <td>4318.500000</td>\n",
       "      <td>1100.500000</td>\n",
       "    </tr>\n",
       "    <tr>\n",
       "      <th>max</th>\n",
       "      <td>-114.310000</td>\n",
       "      <td>34.830000</td>\n",
       "      <td>7650.000000</td>\n",
       "      <td>3134.000000</td>\n",
       "    </tr>\n",
       "  </tbody>\n",
       "</table>\n",
       "</div>"
      ],
      "text/plain": [
       "             long        lat    tot_rooms          pop\n",
       "count   10.000000  10.000000    10.000000    10.000000\n",
       "mean  -114.542000  34.000000  2832.900000  1042.400000\n",
       "std      0.089294   0.519145  2377.174534   858.024242\n",
       "min   -114.600000  33.570000   720.000000   333.000000\n",
       "25%   -114.587500  33.615000  1403.750000   542.250000\n",
       "50%   -114.575000  33.665000  1499.000000   729.000000\n",
       "75%   -114.562500  34.347500  4318.500000  1100.500000\n",
       "max   -114.310000  34.830000  7650.000000  3134.000000"
      ]
     },
     "execution_count": 32,
     "metadata": {},
     "output_type": "execute_result"
    }
   ],
   "source": [
    "df = dat_part.copy()\n",
    "df.describe()"
   ]
  },
  {
   "cell_type": "code",
   "execution_count": 33,
   "metadata": {
    "colab": {},
    "colab_type": "code",
    "id": "ISkxSHNsdycx"
   },
   "outputs": [],
   "source": [
    "# 여러개의 데이터 표시\n",
    "# 데이터 셋 복사 및 컬럼명 변경\n",
    "df = dat_part.copy()\n",
    "df.columns = ['long', 'lat', 'tot_rooms', 'pop']\n",
    "map2 = folium.Map(location=[lat_m, log_m], zoom_start=9)\n",
    "\n",
    "# 추후 색 지정을 위한 함수\n",
    "def color(pop_num): \n",
    "    if pop_num in range(0,1000): \n",
    "        col = 'green'\n",
    "    elif pop_num in range(1001,1999): \n",
    "        col = 'blue'\n",
    "    elif pop_num in range(2000,2999): \n",
    "        col = 'orange'\n",
    "    else: \n",
    "        col='red'\n",
    "    return col"
   ]
  },
  {
   "cell_type": "code",
   "execution_count": 34,
   "metadata": {
    "colab": {
     "base_uri": "https://localhost:8080/",
     "height": 694
    },
    "colab_type": "code",
    "id": "m6Tmh1NPoFo1",
    "outputId": "11172d59-49d0-4e4e-d2bd-fdcd03276a07"
   },
   "outputs": [
    {
     "data": {
      "text/html": [
       "<div style=\"width:100%;\"><div style=\"position:relative;width:100%;height:0;padding-bottom:60%;\"><span style=\"color:#565656\">Make this Notebook Trusted to load map: File -> Trust Notebook</span><iframe src=\"about:blank\" style=\"position:absolute;width:100%;height:100%;left:0;top:0;border:none !important;\" data-html=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 onload=\"this.contentDocument.open();this.contentDocument.write(atob(this.getAttribute('data-html')));this.contentDocument.close();\" allowfullscreen webkitallowfullscreen mozallowfullscreen></iframe></div></div>"
      ],
      "text/plain": [
       "<folium.folium.Map at 0x2f981bdef28>"
      ]
     },
     "execution_count": 34,
     "metadata": {},
     "output_type": "execute_result"
    }
   ],
   "source": [
    "for lat,lan,room,pop in zip(df['lat'],df['long'],df['tot_rooms'],df['pop']): \n",
    "    # as a list as an argument \n",
    "    folium.Marker(location=[lat,lan],popup = \"room:\" + str(room), \n",
    "                  icon= folium.Icon(color=color(pop), \n",
    "                  icon_color='yellow',icon = 'cloud')).add_to(map2) \n",
    "\n",
    "\n",
    "# Save the file created above \n",
    "map2.save('test7.html')\n",
    "map2"
   ]
  },
  {
   "cell_type": "markdown",
   "metadata": {
    "colab_type": "text",
    "id": "VDGWc15EtvzD"
   },
   "source": [
    "### 7.5 조건을 이용한 데이터 선택"
   ]
  },
  {
   "cell_type": "code",
   "execution_count": 35,
   "metadata": {
    "colab": {
     "base_uri": "https://localhost:8080/",
     "height": 297
    },
    "colab_type": "code",
    "id": "rcPIHDrAZnAM",
    "outputId": "bb7e502a-8e90-424f-c9e3-c7ea6869909b"
   },
   "outputs": [
    {
     "data": {
      "text/plain": [
       "<matplotlib.axes._subplots.AxesSubplot at 0x2f981bdeb38>"
      ]
     },
     "execution_count": 35,
     "metadata": {},
     "output_type": "execute_result"
    },
    {
     "data": {
      "image/png": "[encoded data removed]",
      "text/plain": [
       "<Figure size 432x288 with 1 Axes>"
      ]
     },
     "metadata": {
      "needs_background": "light"
     },
     "output_type": "display_data"
    }
   ],
   "source": [
    "import seaborn as sns\n",
    "sns.distplot(data_tr['longitude'])"
   ]
  },
  {
   "cell_type": "code",
   "execution_count": 36,
   "metadata": {
    "colab": {
     "base_uri": "https://localhost:8080/",
     "height": 300
    },
    "colab_type": "code",
    "id": "ahkU06nkZnSM",
    "outputId": "d6addfe7-fa34-4ebf-8498-e03e9da18a5c"
   },
   "outputs": [
    {
     "data": {
      "text/plain": [
       "<matplotlib.axes._subplots.AxesSubplot at 0x2f981fb23c8>"
      ]
     },
     "execution_count": 36,
     "metadata": {},
     "output_type": "execute_result"
    },
    {
     "data": {
      "image/png": "[encoded data removed]",
      "text/plain": [
       "<Figure size 432x288 with 1 Axes>"
      ]
     },
     "metadata": {
      "needs_background": "light"
     },
     "output_type": "display_data"
    }
   ],
   "source": [
    "data_tr_long = data_tr[data_tr.longitude <= -120]\n",
    "sns.distplot(data_tr_long['longitude'])"
   ]
  },
  {
   "cell_type": "code",
   "execution_count": 37,
   "metadata": {
    "colab": {
     "base_uri": "https://localhost:8080/",
     "height": 297
    },
    "colab_type": "code",
    "id": "TVZoOz9na1X_",
    "outputId": "8375803b-9d0b-444a-8d0d-01e5638f000a"
   },
   "outputs": [
    {
     "data": {
      "text/plain": [
       "<matplotlib.axes._subplots.AxesSubplot at 0x2f98136b550>"
      ]
     },
     "execution_count": 37,
     "metadata": {},
     "output_type": "execute_result"
    },
    {
     "data": {
      "image/png": "[encoded data removed]",
      "text/plain": [
       "<Figure size 432x288 with 1 Axes>"
      ]
     },
     "metadata": {
      "needs_background": "light"
     },
     "output_type": "display_data"
    }
   ],
   "source": [
    "data_tr_long = data_tr[ (data_tr.longitude >= -123) & (data_tr.longitude <= -121) ]\n",
    "sns.distplot(data_tr_long['longitude'])"
   ]
  },
  {
   "cell_type": "code",
   "execution_count": 38,
   "metadata": {
    "colab": {
     "base_uri": "https://localhost:8080/",
     "height": 297
    },
    "colab_type": "code",
    "id": "IabU2wXHeBu-",
    "outputId": "4f644f3c-7518-4d1c-f6f5-1b8bb032286e"
   },
   "outputs": [
    {
     "data": {
      "text/plain": [
       "<matplotlib.axes._subplots.AxesSubplot at 0x2f9808e97f0>"
      ]
     },
     "execution_count": 38,
     "metadata": {},
     "output_type": "execute_result"
    },
    {
     "data": {
      "image/png": "[encoded data removed]",
      "text/plain": [
       "<Figure size 432x288 with 1 Axes>"
      ]
     },
     "metadata": {
      "needs_background": "light"
     },
     "output_type": "display_data"
    }
   ],
   "source": [
    "data_tr_long = data_tr.loc[ (data_tr.longitude >= -123) & (data_tr.longitude <= -121) ]\n",
    "sns.distplot(data_tr_long['longitude'])"
   ]
  },
  {
   "cell_type": "code",
   "execution_count": 39,
   "metadata": {
    "colab": {
     "base_uri": "https://localhost:8080/",
     "height": 297
    },
    "colab_type": "code",
    "id": "7Ml_4L6teFoV",
    "outputId": "d5600791-ec16-4914-9f22-713f5a6b398f"
   },
   "outputs": [
    {
     "data": {
      "text/plain": [
       "<matplotlib.axes._subplots.AxesSubplot at 0x2f980877f60>"
      ]
     },
     "execution_count": 39,
     "metadata": {},
     "output_type": "execute_result"
    },
    {
     "data": {
      "image/png": "[encoded data removed]",
      "text/plain": [
       "<Figure size 432x288 with 1 Axes>"
      ]
     },
     "metadata": {
      "needs_background": "light"
     },
     "output_type": "display_data"
    }
   ],
   "source": [
    "data_tr_long = data_tr[ (data_tr.longitude <= -122) | (data_tr.longitude >= -116) ]\n",
    "sns.scatterplot(x=\"longitude\", y=\"latitude\", data=data_tr_long)"
   ]
  },
  {
   "cell_type": "markdown",
   "metadata": {
    "colab_type": "text",
    "id": "JoUewqdSj2YI"
   },
   "source": [
    "### 두개의 데이터 셋을 하나로 만들기\n",
    "  * append 함수를 이용"
   ]
  },
  {
   "cell_type": "code",
   "execution_count": 41,
   "metadata": {
    "colab": {
     "base_uri": "https://localhost:8080/",
     "height": 263
    },
    "colab_type": "code",
    "id": "4f2KCRY-j2Ug",
    "outputId": "248880c7-58ee-4a1d-8360-0f3d3b161597"
   },
   "outputs": [
    {
     "name": "stdout",
     "output_type": "stream",
     "text": [
      "(20000, 9)\n",
      "       longitude  latitude  housing_median_age  total_rooms  total_bedrooms  \\\n",
      "16995    -124.26     40.58                52.0       2217.0           394.0   \n",
      "16996    -124.27     40.69                36.0       2349.0           528.0   \n",
      "16997    -124.30     41.84                17.0       2677.0           531.0   \n",
      "16998    -124.30     41.80                19.0       2672.0           552.0   \n",
      "16999    -124.35     40.54                52.0       1820.0           300.0   \n",
      "0        -122.05     37.37                27.0       3885.0           661.0   \n",
      "1        -118.30     34.26                43.0       1510.0           310.0   \n",
      "2        -117.81     33.78                27.0       3589.0           507.0   \n",
      "3        -118.36     33.82                28.0         67.0            15.0   \n",
      "4        -119.67     36.33                19.0       1241.0           244.0   \n",
      "\n",
      "       population  households  median_income  median_house_value  \n",
      "16995       907.0       369.0         2.3571            111400.0  \n",
      "16996      1194.0       465.0         2.5179             79000.0  \n",
      "16997      1244.0       456.0         3.0313            103600.0  \n",
      "16998      1298.0       478.0         1.9797             85800.0  \n",
      "16999       806.0       270.0         3.0147             94600.0  \n",
      "0          1537.0       606.0         6.6085            344700.0  \n",
      "1           809.0       277.0         3.5990            176500.0  \n",
      "2          1484.0       495.0         5.7934            270500.0  \n",
      "3            49.0        11.0         6.1359            330000.0  \n",
      "4           850.0       237.0         2.9375             81700.0  \n"
     ]
    }
   ],
   "source": [
    "base_dir = \"./\"\n",
    "\n",
    "data_tr = pd.read_csv(base_dir + \"california_housing_train.csv\")\n",
    "data_test = pd.read_csv(base_dir + \"california_housing_test.csv\")\n",
    "\n",
    "data_all = data_tr.append(data_test)\n",
    "print(data_all.shape)\n",
    "print(data_all.iloc[16995:17005])"
   ]
  },
  {
   "cell_type": "markdown",
   "metadata": {
    "colab_type": "text",
    "id": "kRWd3PmWot8H"
   },
   "source": [
    "### 데이터의 인덱스 번호를 초기화\n",
    "  * [].reset_index() 함수를 사용"
   ]
  },
  {
   "cell_type": "code",
   "execution_count": 42,
   "metadata": {
    "colab": {
     "base_uri": "https://localhost:8080/",
     "height": 246
    },
    "colab_type": "code",
    "id": "UQjWNZFaj2Pf",
    "outputId": "2db674d7-498a-48d0-dad1-48c44247393d"
   },
   "outputs": [
    {
     "name": "stdout",
     "output_type": "stream",
     "text": [
      "       longitude  latitude  housing_median_age  total_rooms  total_bedrooms  \\\n",
      "16995    -124.26     40.58                52.0       2217.0           394.0   \n",
      "16996    -124.27     40.69                36.0       2349.0           528.0   \n",
      "16997    -124.30     41.84                17.0       2677.0           531.0   \n",
      "16998    -124.30     41.80                19.0       2672.0           552.0   \n",
      "16999    -124.35     40.54                52.0       1820.0           300.0   \n",
      "17000    -122.05     37.37                27.0       3885.0           661.0   \n",
      "17001    -118.30     34.26                43.0       1510.0           310.0   \n",
      "17002    -117.81     33.78                27.0       3589.0           507.0   \n",
      "17003    -118.36     33.82                28.0         67.0            15.0   \n",
      "17004    -119.67     36.33                19.0       1241.0           244.0   \n",
      "\n",
      "       population  households  median_income  median_house_value  \n",
      "16995       907.0       369.0         2.3571            111400.0  \n",
      "16996      1194.0       465.0         2.5179             79000.0  \n",
      "16997      1244.0       456.0         3.0313            103600.0  \n",
      "16998      1298.0       478.0         1.9797             85800.0  \n",
      "16999       806.0       270.0         3.0147             94600.0  \n",
      "17000      1537.0       606.0         6.6085            344700.0  \n",
      "17001       809.0       277.0         3.5990            176500.0  \n",
      "17002      1484.0       495.0         5.7934            270500.0  \n",
      "17003        49.0        11.0         6.1359            330000.0  \n",
      "17004       850.0       237.0         2.9375             81700.0  \n"
     ]
    }
   ],
   "source": [
    "data_all = data_all.reset_index(drop=True)\n",
    "print(data_all.iloc[16995:17005])"
   ]
  },
  {
   "cell_type": "code",
   "execution_count": 43,
   "metadata": {
    "colab": {
     "base_uri": "https://localhost:8080/",
     "height": 284
    },
    "colab_type": "code",
    "id": "kMa62AkDj2Go",
    "outputId": "f535ee3e-5d4a-441c-e28c-9e9fd0dd0b20"
   },
   "outputs": [
    {
     "data": {
      "text/html": [
       "<div>\n",
       "<style scoped>\n",
       "    .dataframe tbody tr th:only-of-type {\n",
       "        vertical-align: middle;\n",
       "    }\n",
       "\n",
       "    .dataframe tbody tr th {\n",
       "        vertical-align: top;\n",
       "    }\n",
       "\n",
       "    .dataframe thead th {\n",
       "        text-align: right;\n",
       "    }\n",
       "</style>\n",
       "<table border=\"1\" class=\"dataframe\">\n",
       "  <thead>\n",
       "    <tr style=\"text-align: right;\">\n",
       "      <th></th>\n",
       "      <th>longitude</th>\n",
       "      <th>latitude</th>\n",
       "      <th>housing_median_age</th>\n",
       "      <th>total_rooms</th>\n",
       "      <th>total_bedrooms</th>\n",
       "      <th>population</th>\n",
       "      <th>households</th>\n",
       "      <th>median_income</th>\n",
       "      <th>median_house_value</th>\n",
       "    </tr>\n",
       "  </thead>\n",
       "  <tbody>\n",
       "    <tr>\n",
       "      <th>count</th>\n",
       "      <td>20000.000000</td>\n",
       "      <td>20000.000000</td>\n",
       "      <td>20000.000000</td>\n",
       "      <td>20000.000000</td>\n",
       "      <td>20000.000000</td>\n",
       "      <td>20000.000000</td>\n",
       "      <td>20000.000000</td>\n",
       "      <td>20000.000000</td>\n",
       "      <td>20000.000000</td>\n",
       "    </tr>\n",
       "    <tr>\n",
       "      <th>mean</th>\n",
       "      <td>-119.566172</td>\n",
       "      <td>35.626750</td>\n",
       "      <td>28.627750</td>\n",
       "      <td>2637.051550</td>\n",
       "      <td>537.991800</td>\n",
       "      <td>1425.557650</td>\n",
       "      <td>499.525450</td>\n",
       "      <td>3.872132</td>\n",
       "      <td>207082.716750</td>\n",
       "    </tr>\n",
       "    <tr>\n",
       "      <th>std</th>\n",
       "      <td>2.003609</td>\n",
       "      <td>2.136141</td>\n",
       "      <td>12.582229</td>\n",
       "      <td>2176.314757</td>\n",
       "      <td>420.631119</td>\n",
       "      <td>1131.048487</td>\n",
       "      <td>381.729517</td>\n",
       "      <td>1.900356</td>\n",
       "      <td>115557.055856</td>\n",
       "    </tr>\n",
       "    <tr>\n",
       "      <th>min</th>\n",
       "      <td>-124.350000</td>\n",
       "      <td>32.540000</td>\n",
       "      <td>1.000000</td>\n",
       "      <td>2.000000</td>\n",
       "      <td>1.000000</td>\n",
       "      <td>3.000000</td>\n",
       "      <td>1.000000</td>\n",
       "      <td>0.499900</td>\n",
       "      <td>14999.000000</td>\n",
       "    </tr>\n",
       "    <tr>\n",
       "      <th>25%</th>\n",
       "      <td>-121.790000</td>\n",
       "      <td>33.930000</td>\n",
       "      <td>18.000000</td>\n",
       "      <td>1451.000000</td>\n",
       "      <td>296.000000</td>\n",
       "      <td>788.000000</td>\n",
       "      <td>280.000000</td>\n",
       "      <td>2.562500</td>\n",
       "      <td>119800.000000</td>\n",
       "    </tr>\n",
       "    <tr>\n",
       "      <th>50%</th>\n",
       "      <td>-118.490000</td>\n",
       "      <td>34.250000</td>\n",
       "      <td>29.000000</td>\n",
       "      <td>2126.000000</td>\n",
       "      <td>434.000000</td>\n",
       "      <td>1166.000000</td>\n",
       "      <td>409.000000</td>\n",
       "      <td>3.536000</td>\n",
       "      <td>179800.000000</td>\n",
       "    </tr>\n",
       "    <tr>\n",
       "      <th>75%</th>\n",
       "      <td>-118.000000</td>\n",
       "      <td>37.710000</td>\n",
       "      <td>37.000000</td>\n",
       "      <td>3149.000000</td>\n",
       "      <td>647.000000</td>\n",
       "      <td>1724.000000</td>\n",
       "      <td>604.000000</td>\n",
       "      <td>4.745325</td>\n",
       "      <td>265000.000000</td>\n",
       "    </tr>\n",
       "    <tr>\n",
       "      <th>max</th>\n",
       "      <td>-114.310000</td>\n",
       "      <td>41.950000</td>\n",
       "      <td>52.000000</td>\n",
       "      <td>37937.000000</td>\n",
       "      <td>6445.000000</td>\n",
       "      <td>35682.000000</td>\n",
       "      <td>6082.000000</td>\n",
       "      <td>15.000100</td>\n",
       "      <td>500001.000000</td>\n",
       "    </tr>\n",
       "  </tbody>\n",
       "</table>\n",
       "</div>"
      ],
      "text/plain": [
       "          longitude      latitude  housing_median_age   total_rooms  \\\n",
       "count  20000.000000  20000.000000        20000.000000  20000.000000   \n",
       "mean    -119.566172     35.626750           28.627750   2637.051550   \n",
       "std        2.003609      2.136141           12.582229   2176.314757   \n",
       "min     -124.350000     32.540000            1.000000      2.000000   \n",
       "25%     -121.790000     33.930000           18.000000   1451.000000   \n",
       "50%     -118.490000     34.250000           29.000000   2126.000000   \n",
       "75%     -118.000000     37.710000           37.000000   3149.000000   \n",
       "max     -114.310000     41.950000           52.000000  37937.000000   \n",
       "\n",
       "       total_bedrooms    population    households  median_income  \\\n",
       "count    20000.000000  20000.000000  20000.000000   20000.000000   \n",
       "mean       537.991800   1425.557650    499.525450       3.872132   \n",
       "std        420.631119   1131.048487    381.729517       1.900356   \n",
       "min          1.000000      3.000000      1.000000       0.499900   \n",
       "25%        296.000000    788.000000    280.000000       2.562500   \n",
       "50%        434.000000   1166.000000    409.000000       3.536000   \n",
       "75%        647.000000   1724.000000    604.000000       4.745325   \n",
       "max       6445.000000  35682.000000   6082.000000      15.000100   \n",
       "\n",
       "       median_house_value  \n",
       "count        20000.000000  \n",
       "mean        207082.716750  \n",
       "std         115557.055856  \n",
       "min          14999.000000  \n",
       "25%         119800.000000  \n",
       "50%         179800.000000  \n",
       "75%         265000.000000  \n",
       "max         500001.000000  "
      ]
     },
     "execution_count": 43,
     "metadata": {},
     "output_type": "execute_result"
    }
   ],
   "source": [
    "data_all.describe()"
   ]
  },
  {
   "cell_type": "code",
   "execution_count": 44,
   "metadata": {
    "colab": {
     "base_uri": "https://localhost:8080/",
     "height": 297
    },
    "colab_type": "code",
    "id": "n57ZOw1wwc72",
    "outputId": "6d62dbd3-77a8-491f-df6a-b813117913d4"
   },
   "outputs": [
    {
     "data": {
      "text/plain": [
       "<matplotlib.axes._subplots.AxesSubplot at 0x2f980c1d5f8>"
      ]
     },
     "execution_count": 44,
     "metadata": {},
     "output_type": "execute_result"
    },
    {
     "data": {
      "image/png": "[encoded data removed]",
      "text/plain": [
       "<Figure size 432x288 with 1 Axes>"
      ]
     },
     "metadata": {
      "needs_background": "light"
     },
     "output_type": "display_data"
    }
   ],
   "source": [
    "sns.scatterplot(x=\"longitude\", y=\"latitude\", data=data_all)"
   ]
  },
  {
   "cell_type": "code",
   "execution_count": 45,
   "metadata": {
    "colab": {
     "base_uri": "https://localhost:8080/",
     "height": 926
    },
    "colab_type": "code",
    "id": "fkRjQIKXieE3",
    "outputId": "54ad2a90-dcd1-488c-8f7a-09035d273809"
   },
   "outputs": [
    {
     "name": "stdout",
     "output_type": "stream",
     "text": [
      "          longitude      latitude  housing_median_age   total_rooms  \\\n",
      "count  20000.000000  20000.000000        20000.000000  20000.000000   \n",
      "mean    -119.566172     35.626750           28.627750   2637.051550   \n",
      "std        2.003609      2.136141           12.582229   2176.314757   \n",
      "min     -124.350000     32.540000            1.000000      2.000000   \n",
      "25%     -121.790000     33.930000           18.000000   1451.000000   \n",
      "50%     -118.490000     34.250000           29.000000   2126.000000   \n",
      "75%     -118.000000     37.710000           37.000000   3149.000000   \n",
      "max     -114.310000     41.950000           52.000000  37937.000000   \n",
      "\n",
      "       total_bedrooms    population    households  median_income  \\\n",
      "count    20000.000000  20000.000000  20000.000000   20000.000000   \n",
      "mean       537.991800   1425.557650    499.525450       3.872132   \n",
      "std        420.631119   1131.048487    381.729517       1.900356   \n",
      "min          1.000000      3.000000      1.000000       0.499900   \n",
      "25%        296.000000    788.000000    280.000000       2.562500   \n",
      "50%        434.000000   1166.000000    409.000000       3.536000   \n",
      "75%        647.000000   1724.000000    604.000000       4.745325   \n",
      "max       6445.000000  35682.000000   6082.000000      15.000100   \n",
      "\n",
      "       median_house_value  \n",
      "count        20000.000000  \n",
      "mean        207082.716750  \n",
      "std         115557.055856  \n",
      "min          14999.000000  \n",
      "25%         119800.000000  \n",
      "50%         179800.000000  \n",
      "75%         265000.000000  \n",
      "max         500001.000000  \n"
     ]
    },
    {
     "data": {
      "text/plain": [
       "<matplotlib.axes._subplots.AxesSubplot at 0x2f9808867b8>"
      ]
     },
     "execution_count": 45,
     "metadata": {},
     "output_type": "execute_result"
    },
    {
     "data": {
      "image/png": "[encoded data removed]",
      "text/plain": [
       "<Figure size 864x864 with 4 Axes>"
      ]
     },
     "metadata": {
      "needs_background": "light"
     },
     "output_type": "display_data"
    }
   ],
   "source": [
    "print(data_all.describe())\n",
    "### -122미만, -122이상~-119미만, -119이상~-118미만, -118이상\n",
    "data01 = data_all[data_all['longitude'] < -122]\n",
    "data02 = data_all[ (data_all['longitude'] >= -122) &\n",
    "                    (data_all['longitude'] < -119) ]\n",
    "data03 = data_all[ (data_all['longitude'] >= -119) &\n",
    "                    (data_all['longitude'] < -118) ]\n",
    "data04 = data_all[data_all['longitude'] >= -118]\n",
    "\n",
    "f, axes = plt.subplots(2, 2, figsize=(12, 12))\n",
    "axes[0,0].set_ylim([30, 45])\n",
    "axes[0,1].set_ylim([30, 45])\n",
    "axes[1,0].set_ylim([30, 45])\n",
    "axes[1,1].set_ylim([30, 45])\n",
    "\n",
    "sns.scatterplot(x=\"longitude\", y=\"latitude\", data=data01, ax=axes[0, 0])\n",
    "sns.scatterplot(x=\"longitude\", y=\"latitude\", data=data02, ax=axes[0, 1])\n",
    "sns.scatterplot(x=\"longitude\", y=\"latitude\", data=data03, ax=axes[1, 0])\n",
    "sns.scatterplot(x=\"longitude\", y=\"latitude\", data=data04, ax=axes[1, 1])"
   ]
  },
  {
   "cell_type": "code",
   "execution_count": 46,
   "metadata": {
    "colab": {
     "base_uri": "https://localhost:8080/",
     "height": 34
    },
    "colab_type": "code",
    "id": "ppBj_RIrjEYR",
    "outputId": "e233027a-cba9-44e4-fdc6-2a0006405358"
   },
   "outputs": [
    {
     "name": "stdout",
     "output_type": "stream",
     "text": [
      "['.git', '.gitattributes', '.gitignore', '.ipynb_checkpoints', '1_1_PythonBasic.ipynb', '1_2_Basic_Pandas.ipynb', '1_2_Pandas_Practice.ipynb', '1_2_Pandas_practice01.ipynb', '1_2_Pandas_practice02.ipynb', '1_2_PythonBasic_fnc_module.ipynb', '1_2_PythonBasic_for_fnc.ipynb', '1_2_Seaborn_Practice.ipynb', '1_3_folium_poltly기본.ipynb', '1_3_plotly.ipynb', '1_3_Seaborn_Basic.ipynb', '2_2_BS4_Naver_all_add_v10-Copy1.ipynb', '2_2_BS4_Naver_all_add_v10.ipynb', '3_2_all_Konlpy_Basic_v10.ipynb', '3_2_env_colab_nanum_install_v10.ipynb', '4_2_bs4_v11_Problem.ipynb', '4_2_bs4_v11_Problem_sol.ipynb', 'california_housing_test.csv', 'california_housing_train.csv', 'ch07_pandas.py', 'data.csv', 'data.xlsx', 'data_01.csv', 'data_02.csv', 'data_03.csv', 'data_04.csv', 'README.md', 'team_12.csv', 'team_12.xlsx', 'test7.html']\n"
     ]
    }
   ],
   "source": [
    "data01.to_csv('data_01.csv', index=False)\n",
    "data02.to_csv('data_02.csv', index=False)\n",
    "data03.to_csv('data_03.csv', index=False)\n",
    "data04.to_csv('data_04.csv', index=False)\n",
    "\n",
    "print(os.listdir())"
   ]
  },
  {
   "cell_type": "markdown",
   "metadata": {
    "colab_type": "text",
    "id": "KhPg3Nh8zNdY"
   },
   "source": [
    "### 데이터를 그룹화하여 요약 값 확인\n",
    " * 네 개의 데이터를 읽어온다.\n",
    " * 각각의 데이터 셋에 새로운 변수(컬럼)을 생성."
   ]
  },
  {
   "cell_type": "code",
   "execution_count": 47,
   "metadata": {
    "colab": {
     "base_uri": "https://localhost:8080/",
     "height": 87
    },
    "colab_type": "code",
    "id": "J_lA2-eXpCRX",
    "outputId": "fb5ed2b2-dc9f-4187-b497-140eb9a4fda1"
   },
   "outputs": [
    {
     "name": "stdout",
     "output_type": "stream",
     "text": [
      "각 데이터 행열 : (3831, 9)\n",
      "각 데이터 행열 : (5486, 9)\n",
      "각 데이터 행열 : (5681, 9)\n",
      "각 데이터 행열 : (5002, 9)\n"
     ]
    }
   ],
   "source": [
    "data01 = pd.read_csv(\"data_01.csv\")\n",
    "data02 = pd.read_csv(\"data_02.csv\")\n",
    "data03 = pd.read_csv(\"data_03.csv\")\n",
    "data04 = pd.read_csv(\"data_04.csv\")\n",
    "\n",
    "print(\"각 데이터 행열 : {}\".format(data01.shape) )\n",
    "print(\"각 데이터 행열 : {}\".format(data02.shape) )\n",
    "print(\"각 데이터 행열 : {}\".format(data03.shape) )\n",
    "print(\"각 데이터 행열 : {}\".format(data04.shape) )"
   ]
  },
  {
   "cell_type": "code",
   "execution_count": 48,
   "metadata": {
    "colab": {},
    "colab_type": "code",
    "id": "lRIZneCgpFfk"
   },
   "outputs": [],
   "source": [
    "# 새로운 컬럼 생성\n",
    "data01['group_lat'] = 1\n",
    "data02['group_lat'] = 2\n",
    "data03['group_lat'] = 3\n",
    "data04['group_lat'] = 4"
   ]
  },
  {
   "cell_type": "markdown",
   "metadata": {
    "colab_type": "text",
    "id": "iKQco0QYpVOC"
   },
   "source": [
    "### 한번에 여러개 파일 합치기"
   ]
  },
  {
   "cell_type": "code",
   "execution_count": 49,
   "metadata": {
    "colab": {
     "base_uri": "https://localhost:8080/",
     "height": 34
    },
    "colab_type": "code",
    "id": "0c6q4c2spHqq",
    "outputId": "6fcd4341-b260-4266-9251-1c6896594a26"
   },
   "outputs": [
    {
     "data": {
      "text/plain": [
       "array([1, 2, 3, 4], dtype=int64)"
      ]
     },
     "execution_count": 49,
     "metadata": {},
     "output_type": "execute_result"
    }
   ],
   "source": [
    "data_all = data01.append([data02, data03, data04], ignore_index = True)\n",
    "data_all.group_lat.unique()  # 새 컬럼의 유일한 값 확인"
   ]
  },
  {
   "cell_type": "markdown",
   "metadata": {
    "colab_type": "text",
    "id": "uPLcHlrjpbcs"
   },
   "source": [
    "### 새로운 컬럼을 활용하여 집 값의 중위값을 표시"
   ]
  },
  {
   "cell_type": "code",
   "execution_count": 50,
   "metadata": {
    "colab": {
     "base_uri": "https://localhost:8080/",
     "height": 403
    },
    "colab_type": "code",
    "id": "K0z7CE8GpSnI",
    "outputId": "2975ecd7-55d2-498a-b0da-3cd3641f80cd"
   },
   "outputs": [
    {
     "name": "stdout",
     "output_type": "stream",
     "text": [
      "전체 데이터 행열 :(20000, 10)\n",
      "전체 데이터 컬럼명 :Index(['longitude', 'latitude', 'housing_median_age', 'total_rooms',\n",
      "       'total_bedrooms', 'population', 'households', 'median_income',\n",
      "       'median_house_value', 'group_lat'],\n",
      "      dtype='object')\n",
      "group_lat 컬럼의 값 : [1 2 3 4]\n"
     ]
    },
    {
     "data": {
      "text/plain": [
       "<matplotlib.axes._subplots.AxesSubplot at 0x2f9802c29b0>"
      ]
     },
     "execution_count": 50,
     "metadata": {},
     "output_type": "execute_result"
    },
    {
     "data": {
      "image/png": "[encoded data removed]",
      "text/plain": [
       "<Figure size 432x288 with 1 Axes>"
      ]
     },
     "metadata": {
      "needs_background": "light"
     },
     "output_type": "display_data"
    }
   ],
   "source": [
    "print(\"전체 데이터 행열 :{}\".format(data_all.shape))\n",
    "print(\"전체 데이터 컬럼명 :{}\".format(data_all.columns))\n",
    "print(\"group_lat 컬럼의 값 : {}\".format(data_all.group_lat.unique()) )\n",
    "sns.barplot(x=\"group_lat\", y=\"median_house_value\", data=data_all)"
   ]
  },
  {
   "cell_type": "markdown",
   "metadata": {
    "colab_type": "text",
    "id": "A4xNVeTFplTS"
   },
   "source": [
    "### 값들의 데이터 개수 알아보기"
   ]
  },
  {
   "cell_type": "code",
   "execution_count": 51,
   "metadata": {
    "colab": {
     "base_uri": "https://localhost:8080/",
     "height": 105
    },
    "colab_type": "code",
    "id": "KUJLuBRJpaJG",
    "outputId": "97eab288-a881-4642-c25c-1151901af9be"
   },
   "outputs": [
    {
     "name": "stdout",
     "output_type": "stream",
     "text": [
      "3    5681\n",
      "2    5486\n",
      "4    5002\n",
      "1    3831\n",
      "Name: group_lat, dtype: int64\n"
     ]
    }
   ],
   "source": [
    "print(data_all['group_lat'].value_counts() )"
   ]
  },
  {
   "cell_type": "code",
   "execution_count": 52,
   "metadata": {
    "colab": {
     "base_uri": "https://localhost:8080/",
     "height": 105
    },
    "colab_type": "code",
    "id": "hUUtGfunpgp1",
    "outputId": "d89130fa-3134-4625-9d8d-9289fc3e2473"
   },
   "outputs": [
    {
     "name": "stdout",
     "output_type": "stream",
     "text": [
      "3    5681\n",
      "2    5486\n",
      "4    5002\n",
      "1    3831\n",
      "Name: group_lat, dtype: int64\n"
     ]
    }
   ],
   "source": [
    "print(pd.value_counts(data_all['group_lat']) )"
   ]
  },
  {
   "cell_type": "markdown",
   "metadata": {
    "colab_type": "text",
    "id": "bs3bf_FLpo_B"
   },
   "source": [
    "### 데이터를 그룹화하여 이에 대한 요약값을 확인하기"
   ]
  },
  {
   "cell_type": "code",
   "execution_count": 53,
   "metadata": {
    "colab": {
     "base_uri": "https://localhost:8080/",
     "height": 510
    },
    "colab_type": "code",
    "id": "zduWFhMOph87",
    "outputId": "6d9a6e0e-c162-4134-f7f8-881b51c6a357"
   },
   "outputs": [
    {
     "name": "stdout",
     "output_type": "stream",
     "text": [
      "행정구역 인구 평균 :\n",
      "  group_lat\n",
      "1    1199.107022\n",
      "2    1371.886438\n",
      "3    1471.122162\n",
      "4    1606.109556\n",
      "Name: population, dtype: float64\n",
      "소득 평균 :\n",
      "  group_lat\n",
      "1    4.112725\n",
      "2    3.529840\n",
      "3    3.904002\n",
      "4    4.027080\n",
      "Name: median_income, dtype: float64\n",
      "방 개수 평균 :\n",
      "  group_lat\n",
      "1    2457.613678\n",
      "2    2609.436930\n",
      "3    2410.067594\n",
      "4    3062.564574\n",
      "Name: total_rooms, dtype: float64\n",
      "세대 수 평균 :\n",
      "  group_lat\n",
      "1    466.478204\n",
      "2    474.076376\n",
      "3    505.227953\n",
      "4    546.271092\n",
      "Name: households, dtype: float64\n"
     ]
    }
   ],
   "source": [
    "### 지역별 집 값 알아보기\n",
    "grouped = data_all.groupby('group_lat')  # 그룹화\n",
    "print( \"행정구역 인구 평균 :\\n \", grouped.mean()['population'] )    # 행정 구역 인구 데이터의 평균\n",
    "print( \"소득 평균 :\\n \",grouped.mean()['median_income'] ) # 소득 데이터의 평균\n",
    "print( \"방 개수 평균 :\\n \",grouped.mean()['total_rooms'] )   # 방 개수 데이터의 평균\n",
    "print( \"세대 수 평균 :\\n \",grouped.mean()['households'] )    # 세대 수 데이터의 평균"
   ]
  },
  {
   "cell_type": "markdown",
   "metadata": {
    "colab_type": "text",
    "id": "6t8Qikafpv7Z"
   },
   "source": [
    "### 그룹화한 결과를 시각화하여 확인하기"
   ]
  },
  {
   "cell_type": "code",
   "execution_count": 54,
   "metadata": {
    "colab": {
     "base_uri": "https://localhost:8080/",
     "height": 731
    },
    "colab_type": "code",
    "id": "S-lJ--GFpkP0",
    "outputId": "243db033-3651-46a5-91b4-c1330b1f0a86"
   },
   "outputs": [
    {
     "data": {
      "image/png": "[encoded data removed]",
      "text/plain": [
       "<Figure size 864x864 with 4 Axes>"
      ]
     },
     "metadata": {
      "needs_background": "light"
     },
     "output_type": "display_data"
    }
   ],
   "source": [
    "# 2행 2열의 그래프 만들고 전체 크기 지정 \n",
    "fig ,axes = plt.subplots(nrows=2, ncols=2)  # 2행 2열의 구조 \n",
    "fig.set_size_inches(12,12)  # 전체 크기\n",
    "\n",
    "# 그룹화하기\n",
    "grouped = data_all.groupby('group_lat').mean()\n",
    "\n",
    "# 막대 그래프로 확인해 보기 \n",
    "sns.barplot(x=grouped.index, y=\"population\", data=grouped, ax= axes[0][0])\n",
    "sns.barplot(x=grouped.index, y=\"median_income\", data=grouped, ax= axes[0][1])\n",
    "sns.barplot(x=grouped.index, y=\"total_rooms\", data=grouped, ax= axes[1][0])\n",
    "sns.barplot(x=grouped.index, y=\"households\", data=grouped, ax= axes[1][1])\n",
    "\n",
    "# 각각의 그래프에 제목을 넣기\n",
    "axes[0][0].title.set_text('population')\n",
    "axes[0][1].title.set_text('median_income')\n",
    "axes[1][0].title.set_text('total_rooms')\n",
    "axes[1][1].title.set_text('households')\n"
   ]
  },
  {
   "cell_type": "code",
   "execution_count": 55,
   "metadata": {
    "colab": {
     "base_uri": "https://localhost:8080/",
     "height": 614
    },
    "colab_type": "code",
    "id": "IcZHvTrcpvkW",
    "outputId": "614792fd-a663-4fcf-b406-70a27b8867d3"
   },
   "outputs": [
    {
     "name": "stdout",
     "output_type": "stream",
     "text": [
      "group_lat\n",
      "1    244581.258418\n",
      "2    161318.769595\n",
      "3    239442.813237\n",
      "4    191802.107557\n",
      "Name: median_house_value, dtype: float64\n",
      "group_lat\n",
      "1    9.369908e+08\n",
      "2    8.849948e+08\n",
      "3    1.360275e+09\n",
      "4    9.593941e+08\n",
      "Name: median_house_value, dtype: float64\n",
      "group_lat\n",
      "1    128465.584053\n",
      "2     96476.318617\n",
      "3    117564.610356\n",
      "4    100284.984009\n",
      "Name: median_house_value, dtype: float64\n"
     ]
    },
    {
     "data": {
      "text/plain": [
       "<matplotlib.axes._subplots.AxesSubplot at 0x2f980790b38>"
      ]
     },
     "execution_count": 55,
     "metadata": {},
     "output_type": "execute_result"
    },
    {
     "data": {
      "image/png": "[encoded data removed]",
      "text/plain": [
       "<Figure size 432x288 with 1 Axes>"
      ]
     },
     "metadata": {
      "needs_background": "light"
     },
     "output_type": "display_data"
    }
   ],
   "source": [
    "### 지역별 집 값 알아보기\n",
    "grouped = data_all.groupby('group_lat')  # 그룹화\n",
    "print( grouped.mean()['median_house_value'] )  # 지역별 집 값 평균\n",
    "print( grouped.sum()['median_house_value'] )  # 지역별 집값의 전체 합 \n",
    "print( grouped.std()['median_house_value'] )  # 지역별 집값의 표준편차\n",
    "\n",
    "grouped = grouped.mean()\n",
    "sns.barplot(x=grouped.index, y=\"median_house_value\", data=grouped)"
   ]
  }
 ],
 "metadata": {
  "colab": {
   "name": "ch07_pandas.ipynb",
   "provenance": []
  },
  "kernelspec": {
   "display_name": "Python 3",
   "language": "python",
   "name": "python3"
  },
  "language_info": {
   "codemirror_mode": {
    "name": "ipython",
    "version": 3
   },
   "file_extension": ".py",
   "mimetype": "text/x-python",
   "name": "python",
   "nbconvert_exporter": "python",
   "pygments_lexer": "ipython3",
   "version": "3.7.1"
  }
 },
 "nbformat": 4,
 "nbformat_minor": 1
}
